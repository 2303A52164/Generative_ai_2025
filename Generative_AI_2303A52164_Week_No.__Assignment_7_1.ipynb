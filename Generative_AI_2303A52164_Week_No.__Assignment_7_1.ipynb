{
  "nbformat": 4,
  "nbformat_minor": 0,
  "metadata": {
    "colab": {
      "provenance": [],
      "authorship_tag": "ABX9TyOZABp1h+eL8jYZSpoYpGa7",
      "include_colab_link": true
    },
    "kernelspec": {
      "name": "python3",
      "display_name": "Python 3"
    },
    "language_info": {
      "name": "python"
    }
  },
  "cells": [
    {
      "cell_type": "markdown",
      "metadata": {
        "id": "view-in-github",
        "colab_type": "text"
      },
      "source": [
        "<a href=\"https://colab.research.google.com/github/2303A52164/Generative_ai_2025/blob/main/Generative_AI_2303A52164_Week_No.__Assignment_7_1.ipynb\" target=\"_parent\"><img src=\"https://colab.research.google.com/assets/colab-badge.svg\" alt=\"Open In Colab\"/></a>"
      ]
    },
    {
      "cell_type": "markdown",
      "source": [
        "# **7.1 Question:**"
      ],
      "metadata": {
        "id": "j8CGaxkiHgIV"
      }
    },
    {
      "cell_type": "code",
      "execution_count": 23,
      "metadata": {
        "id": "2olW-XVcCIAi"
      },
      "outputs": [],
      "source": [
        "import numpy as np\n",
        "import pandas as pd\n",
        "import tensorflow as tf\n",
        "from tensorflow import keras\n",
        "from sklearn.model_selection import train_test_split\n",
        "from sklearn.preprocessing import StandardScaler\n",
        "import h5py\n",
        "from sklearn.metrics import confusion_matrix, classification_report"
      ]
    },
    {
      "cell_type": "code",
      "source": [
        "df = pd.read_csv('https://drive.google.com/uc?id=1AcdENlVm5dccNyo_vgdMbneX8YVvH5R3')"
      ],
      "metadata": {
        "id": "ci3AjFjXE82b"
      },
      "execution_count": 2,
      "outputs": []
    },
    {
      "cell_type": "code",
      "source": [
        "# Splitting features and target\n",
        "X = df.iloc[:, :-1].values\n",
        "y = df.iloc[:, -1].values"
      ],
      "metadata": {
        "id": "CoZM_i0pFrKB"
      },
      "execution_count": 4,
      "outputs": []
    },
    {
      "cell_type": "code",
      "source": [
        "# Splitting data into train and test sets (80-20 split)\n",
        "X_train, X_test, y_train, y_test = train_test_split(X, y, test_size=0.2, random_state=42)"
      ],
      "metadata": {
        "id": "b0ZU3Ec2Gc5E"
      },
      "execution_count": 7,
      "outputs": []
    },
    {
      "cell_type": "code",
      "source": [
        "# Scaling the features\n",
        "scaler = StandardScaler()\n",
        "X_train = scaler.fit_transform(X_train)\n",
        "X_test = scaler.transform(X_test)"
      ],
      "metadata": {
        "id": "U8pS6n2tGiAQ"
      },
      "execution_count": 11,
      "outputs": []
    },
    {
      "cell_type": "code",
      "source": [
        "# Building the ANN model\n",
        "model = keras.Sequential([\n",
        "    keras.layers.Dense(8, activation='relu', input_shape=(X_train.shape[1],)),\n",
        "    keras.layers.Dense(16, activation='relu'),\n",
        "    keras.layers.Dense(20, activation='relu'),\n",
        "    keras.layers.Dense(10, activation='relu'),\n",
        "    keras.layers.Dense(1, activation='sigmoid')  # Binary classification output\n",
        "])"
      ],
      "metadata": {
        "colab": {
          "base_uri": "https://localhost:8080/"
        },
        "id": "4jHMf_jRHe28",
        "outputId": "fbc31994-36a2-4019-8b6f-38311a826033"
      },
      "execution_count": 12,
      "outputs": [
        {
          "output_type": "stream",
          "name": "stderr",
          "text": [
            "/usr/local/lib/python3.11/dist-packages/keras/src/layers/core/dense.py:87: UserWarning: Do not pass an `input_shape`/`input_dim` argument to a layer. When using Sequential models, prefer using an `Input(shape)` object as the first layer in the model instead.\n",
            "  super().__init__(activity_regularizer=activity_regularizer, **kwargs)\n"
          ]
        }
      ]
    },
    {
      "cell_type": "code",
      "source": [
        "# Compiling the model\n",
        "model.compile(optimizer='adam', loss='binary_crossentropy', metrics=['accuracy'])"
      ],
      "metadata": {
        "id": "bDJbO-g1HzJa"
      },
      "execution_count": 13,
      "outputs": []
    },
    {
      "cell_type": "code",
      "source": [
        "# Training the model\n",
        "history = model.fit(X_train, y_train, epochs=150, batch_size=64, validation_data=(X_test, y_test))"
      ],
      "metadata": {
        "colab": {
          "base_uri": "https://localhost:8080/"
        },
        "id": "1kNWXhQAIN51",
        "outputId": "7acbdd41-50e2-4a62-b6fc-23b620274ad4"
      },
      "execution_count": 14,
      "outputs": [
        {
          "output_type": "stream",
          "name": "stdout",
          "text": [
            "Epoch 1/150\n",
            "\u001b[1m7/7\u001b[0m \u001b[32m━━━━━━━━━━━━━━━━━━━━\u001b[0m\u001b[37m\u001b[0m \u001b[1m3s\u001b[0m 74ms/step - accuracy: 0.4129 - loss: 0.5438 - val_accuracy: 0.3578 - val_loss: 0.4667\n",
            "Epoch 2/150\n",
            "\u001b[1m7/7\u001b[0m \u001b[32m━━━━━━━━━━━━━━━━━━━━\u001b[0m\u001b[37m\u001b[0m \u001b[1m0s\u001b[0m 25ms/step - accuracy: 0.4222 - loss: 0.4846 - val_accuracy: 0.3578 - val_loss: 0.3969\n",
            "Epoch 3/150\n",
            "\u001b[1m7/7\u001b[0m \u001b[32m━━━━━━━━━━━━━━━━━━━━\u001b[0m\u001b[37m\u001b[0m \u001b[1m0s\u001b[0m 27ms/step - accuracy: 0.4102 - loss: 0.3923 - val_accuracy: 0.3578 - val_loss: 0.3174\n",
            "Epoch 4/150\n",
            "\u001b[1m7/7\u001b[0m \u001b[32m━━━━━━━━━━━━━━━━━━━━\u001b[0m\u001b[37m\u001b[0m \u001b[1m0s\u001b[0m 22ms/step - accuracy: 0.4378 - loss: 0.3254 - val_accuracy: 0.3578 - val_loss: 0.2329\n",
            "Epoch 5/150\n",
            "\u001b[1m7/7\u001b[0m \u001b[32m━━━━━━━━━━━━━━━━━━━━\u001b[0m\u001b[37m\u001b[0m \u001b[1m0s\u001b[0m 26ms/step - accuracy: 0.4195 - loss: 0.2450 - val_accuracy: 0.3578 - val_loss: 0.1463\n",
            "Epoch 6/150\n",
            "\u001b[1m7/7\u001b[0m \u001b[32m━━━━━━━━━━━━━━━━━━━━\u001b[0m\u001b[37m\u001b[0m \u001b[1m0s\u001b[0m 21ms/step - accuracy: 0.4277 - loss: 0.1683 - val_accuracy: 0.3578 - val_loss: 0.0628\n",
            "Epoch 7/150\n",
            "\u001b[1m7/7\u001b[0m \u001b[32m━━━━━━━━━━━━━━━━━━━━\u001b[0m\u001b[37m\u001b[0m \u001b[1m0s\u001b[0m 15ms/step - accuracy: 0.4209 - loss: 0.1018 - val_accuracy: 0.3578 - val_loss: -0.0190\n",
            "Epoch 8/150\n",
            "\u001b[1m7/7\u001b[0m \u001b[32m━━━━━━━━━━━━━━━━━━━━\u001b[0m\u001b[37m\u001b[0m \u001b[1m0s\u001b[0m 20ms/step - accuracy: 0.4414 - loss: -0.0870 - val_accuracy: 0.3578 - val_loss: -0.1088\n",
            "Epoch 9/150\n",
            "\u001b[1m7/7\u001b[0m \u001b[32m━━━━━━━━━━━━━━━━━━━━\u001b[0m\u001b[37m\u001b[0m \u001b[1m0s\u001b[0m 13ms/step - accuracy: 0.4441 - loss: -0.1255 - val_accuracy: 0.3578 - val_loss: -0.2011\n",
            "Epoch 10/150\n",
            "\u001b[1m7/7\u001b[0m \u001b[32m━━━━━━━━━━━━━━━━━━━━\u001b[0m\u001b[37m\u001b[0m \u001b[1m0s\u001b[0m 13ms/step - accuracy: 0.4526 - loss: -0.0692 - val_accuracy: 0.3578 - val_loss: -0.3008\n",
            "Epoch 11/150\n",
            "\u001b[1m7/7\u001b[0m \u001b[32m━━━━━━━━━━━━━━━━━━━━\u001b[0m\u001b[37m\u001b[0m \u001b[1m0s\u001b[0m 13ms/step - accuracy: 0.4041 - loss: -0.3661 - val_accuracy: 0.3578 - val_loss: -0.4210\n",
            "Epoch 12/150\n",
            "\u001b[1m7/7\u001b[0m \u001b[32m━━━━━━━━━━━━━━━━━━━━\u001b[0m\u001b[37m\u001b[0m \u001b[1m0s\u001b[0m 20ms/step - accuracy: 0.4251 - loss: -0.2260 - val_accuracy: 0.3578 - val_loss: -0.5587\n",
            "Epoch 13/150\n",
            "\u001b[1m7/7\u001b[0m \u001b[32m━━━━━━━━━━━━━━━━━━━━\u001b[0m\u001b[37m\u001b[0m \u001b[1m0s\u001b[0m 13ms/step - accuracy: 0.4386 - loss: -0.5550 - val_accuracy: 0.3578 - val_loss: -0.7334\n",
            "Epoch 14/150\n",
            "\u001b[1m7/7\u001b[0m \u001b[32m━━━━━━━━━━━━━━━━━━━━\u001b[0m\u001b[37m\u001b[0m \u001b[1m0s\u001b[0m 20ms/step - accuracy: 0.4516 - loss: -0.3324 - val_accuracy: 0.3578 - val_loss: -0.9307\n",
            "Epoch 15/150\n",
            "\u001b[1m7/7\u001b[0m \u001b[32m━━━━━━━━━━━━━━━━━━━━\u001b[0m\u001b[37m\u001b[0m \u001b[1m0s\u001b[0m 16ms/step - accuracy: 0.3996 - loss: -0.9110 - val_accuracy: 0.3578 - val_loss: -1.2044\n",
            "Epoch 16/150\n",
            "\u001b[1m7/7\u001b[0m \u001b[32m━━━━━━━━━━━━━━━━━━━━\u001b[0m\u001b[37m\u001b[0m \u001b[1m0s\u001b[0m 13ms/step - accuracy: 0.4427 - loss: -1.1183 - val_accuracy: 0.3578 - val_loss: -1.5407\n",
            "Epoch 17/150\n",
            "\u001b[1m7/7\u001b[0m \u001b[32m━━━━━━━━━━━━━━━━━━━━\u001b[0m\u001b[37m\u001b[0m \u001b[1m0s\u001b[0m 13ms/step - accuracy: 0.4260 - loss: -1.4486 - val_accuracy: 0.3578 - val_loss: -1.9777\n",
            "Epoch 18/150\n",
            "\u001b[1m7/7\u001b[0m \u001b[32m━━━━━━━━━━━━━━━━━━━━\u001b[0m\u001b[37m\u001b[0m \u001b[1m0s\u001b[0m 13ms/step - accuracy: 0.3860 - loss: -2.3858 - val_accuracy: 0.3578 - val_loss: -2.5498\n",
            "Epoch 19/150\n",
            "\u001b[1m7/7\u001b[0m \u001b[32m━━━━━━━━━━━━━━━━━━━━\u001b[0m\u001b[37m\u001b[0m \u001b[1m0s\u001b[0m 19ms/step - accuracy: 0.4185 - loss: -1.9925 - val_accuracy: 0.3578 - val_loss: -3.1971\n",
            "Epoch 20/150\n",
            "\u001b[1m7/7\u001b[0m \u001b[32m━━━━━━━━━━━━━━━━━━━━\u001b[0m\u001b[37m\u001b[0m \u001b[1m0s\u001b[0m 13ms/step - accuracy: 0.4290 - loss: -3.0932 - val_accuracy: 0.3578 - val_loss: -4.0342\n",
            "Epoch 21/150\n",
            "\u001b[1m7/7\u001b[0m \u001b[32m━━━━━━━━━━━━━━━━━━━━\u001b[0m\u001b[37m\u001b[0m \u001b[1m0s\u001b[0m 15ms/step - accuracy: 0.4082 - loss: -4.3670 - val_accuracy: 0.3578 - val_loss: -5.1179\n",
            "Epoch 22/150\n",
            "\u001b[1m7/7\u001b[0m \u001b[32m━━━━━━━━━━━━━━━━━━━━\u001b[0m\u001b[37m\u001b[0m \u001b[1m0s\u001b[0m 14ms/step - accuracy: 0.4240 - loss: -4.9223 - val_accuracy: 0.3578 - val_loss: -6.4286\n",
            "Epoch 23/150\n",
            "\u001b[1m7/7\u001b[0m \u001b[32m━━━━━━━━━━━━━━━━━━━━\u001b[0m\u001b[37m\u001b[0m \u001b[1m0s\u001b[0m 13ms/step - accuracy: 0.4561 - loss: -6.5706 - val_accuracy: 0.3578 - val_loss: -8.1491\n",
            "Epoch 24/150\n",
            "\u001b[1m7/7\u001b[0m \u001b[32m━━━━━━━━━━━━━━━━━━━━\u001b[0m\u001b[37m\u001b[0m \u001b[1m0s\u001b[0m 13ms/step - accuracy: 0.4217 - loss: -7.5166 - val_accuracy: 0.3578 - val_loss: -10.1883\n",
            "Epoch 25/150\n",
            "\u001b[1m7/7\u001b[0m \u001b[32m━━━━━━━━━━━━━━━━━━━━\u001b[0m\u001b[37m\u001b[0m \u001b[1m0s\u001b[0m 13ms/step - accuracy: 0.4347 - loss: -9.3907 - val_accuracy: 0.3578 - val_loss: -12.7138\n",
            "Epoch 26/150\n",
            "\u001b[1m7/7\u001b[0m \u001b[32m━━━━━━━━━━━━━━━━━━━━\u001b[0m\u001b[37m\u001b[0m \u001b[1m0s\u001b[0m 14ms/step - accuracy: 0.4272 - loss: -11.2552 - val_accuracy: 0.3578 - val_loss: -15.7355\n",
            "Epoch 27/150\n",
            "\u001b[1m7/7\u001b[0m \u001b[32m━━━━━━━━━━━━━━━━━━━━\u001b[0m\u001b[37m\u001b[0m \u001b[1m0s\u001b[0m 14ms/step - accuracy: 0.4325 - loss: -19.3630 - val_accuracy: 0.3578 - val_loss: -19.6113\n",
            "Epoch 28/150\n",
            "\u001b[1m7/7\u001b[0m \u001b[32m━━━━━━━━━━━━━━━━━━━━\u001b[0m\u001b[37m\u001b[0m \u001b[1m0s\u001b[0m 13ms/step - accuracy: 0.4455 - loss: -15.4473 - val_accuracy: 0.3578 - val_loss: -23.6987\n",
            "Epoch 29/150\n",
            "\u001b[1m7/7\u001b[0m \u001b[32m━━━━━━━━━━━━━━━━━━━━\u001b[0m\u001b[37m\u001b[0m \u001b[1m0s\u001b[0m 16ms/step - accuracy: 0.4544 - loss: -25.8704 - val_accuracy: 0.3578 - val_loss: -28.5826\n",
            "Epoch 30/150\n",
            "\u001b[1m7/7\u001b[0m \u001b[32m━━━━━━━━━━━━━━━━━━━━\u001b[0m\u001b[37m\u001b[0m \u001b[1m0s\u001b[0m 14ms/step - accuracy: 0.4126 - loss: -28.8401 - val_accuracy: 0.3578 - val_loss: -34.3818\n",
            "Epoch 31/150\n",
            "\u001b[1m7/7\u001b[0m \u001b[32m━━━━━━━━━━━━━━━━━━━━\u001b[0m\u001b[37m\u001b[0m \u001b[1m0s\u001b[0m 15ms/step - accuracy: 0.4380 - loss: -31.3531 - val_accuracy: 0.3670 - val_loss: -41.1507\n",
            "Epoch 32/150\n",
            "\u001b[1m7/7\u001b[0m \u001b[32m━━━━━━━━━━━━━━━━━━━━\u001b[0m\u001b[37m\u001b[0m \u001b[1m0s\u001b[0m 14ms/step - accuracy: 0.4272 - loss: -44.4663 - val_accuracy: 0.3670 - val_loss: -49.3755\n",
            "Epoch 33/150\n",
            "\u001b[1m7/7\u001b[0m \u001b[32m━━━━━━━━━━━━━━━━━━━━\u001b[0m\u001b[37m\u001b[0m \u001b[1m0s\u001b[0m 13ms/step - accuracy: 0.4385 - loss: -43.1748 - val_accuracy: 0.3761 - val_loss: -58.4910\n",
            "Epoch 34/150\n",
            "\u001b[1m7/7\u001b[0m \u001b[32m━━━━━━━━━━━━━━━━━━━━\u001b[0m\u001b[37m\u001b[0m \u001b[1m0s\u001b[0m 13ms/step - accuracy: 0.4420 - loss: -58.5717 - val_accuracy: 0.3670 - val_loss: -69.3390\n",
            "Epoch 35/150\n",
            "\u001b[1m7/7\u001b[0m \u001b[32m━━━━━━━━━━━━━━━━━━━━\u001b[0m\u001b[37m\u001b[0m \u001b[1m0s\u001b[0m 13ms/step - accuracy: 0.4496 - loss: -69.7556 - val_accuracy: 0.3578 - val_loss: -81.9823\n",
            "Epoch 36/150\n",
            "\u001b[1m7/7\u001b[0m \u001b[32m━━━━━━━━━━━━━━━━━━━━\u001b[0m\u001b[37m\u001b[0m \u001b[1m0s\u001b[0m 20ms/step - accuracy: 0.4381 - loss: -106.1405 - val_accuracy: 0.3578 - val_loss: -97.0796\n",
            "Epoch 37/150\n",
            "\u001b[1m7/7\u001b[0m \u001b[32m━━━━━━━━━━━━━━━━━━━━\u001b[0m\u001b[37m\u001b[0m \u001b[1m0s\u001b[0m 13ms/step - accuracy: 0.4720 - loss: -99.8080 - val_accuracy: 0.3670 - val_loss: -112.9960\n",
            "Epoch 38/150\n",
            "\u001b[1m7/7\u001b[0m \u001b[32m━━━━━━━━━━━━━━━━━━━━\u001b[0m\u001b[37m\u001b[0m \u001b[1m0s\u001b[0m 15ms/step - accuracy: 0.4365 - loss: -122.3635 - val_accuracy: 0.3670 - val_loss: -132.4858\n",
            "Epoch 39/150\n",
            "\u001b[1m7/7\u001b[0m \u001b[32m━━━━━━━━━━━━━━━━━━━━\u001b[0m\u001b[37m\u001b[0m \u001b[1m0s\u001b[0m 14ms/step - accuracy: 0.4338 - loss: -121.4208 - val_accuracy: 0.3578 - val_loss: -153.9092\n",
            "Epoch 40/150\n",
            "\u001b[1m7/7\u001b[0m \u001b[32m━━━━━━━━━━━━━━━━━━━━\u001b[0m\u001b[37m\u001b[0m \u001b[1m0s\u001b[0m 14ms/step - accuracy: 0.4435 - loss: -145.0795 - val_accuracy: 0.3670 - val_loss: -178.8111\n",
            "Epoch 41/150\n",
            "\u001b[1m7/7\u001b[0m \u001b[32m━━━━━━━━━━━━━━━━━━━━\u001b[0m\u001b[37m\u001b[0m \u001b[1m0s\u001b[0m 20ms/step - accuracy: 0.4454 - loss: -151.1801 - val_accuracy: 0.3761 - val_loss: -207.0254\n",
            "Epoch 42/150\n",
            "\u001b[1m7/7\u001b[0m \u001b[32m━━━━━━━━━━━━━━━━━━━━\u001b[0m\u001b[37m\u001b[0m \u001b[1m0s\u001b[0m 13ms/step - accuracy: 0.4277 - loss: -248.0376 - val_accuracy: 0.3761 - val_loss: -240.4571\n",
            "Epoch 43/150\n",
            "\u001b[1m7/7\u001b[0m \u001b[32m━━━━━━━━━━━━━━━━━━━━\u001b[0m\u001b[37m\u001b[0m \u001b[1m0s\u001b[0m 21ms/step - accuracy: 0.4526 - loss: -272.0112 - val_accuracy: 0.3761 - val_loss: -277.9349\n",
            "Epoch 44/150\n",
            "\u001b[1m7/7\u001b[0m \u001b[32m━━━━━━━━━━━━━━━━━━━━\u001b[0m\u001b[37m\u001b[0m \u001b[1m0s\u001b[0m 13ms/step - accuracy: 0.4281 - loss: -287.1335 - val_accuracy: 0.3761 - val_loss: -318.0446\n",
            "Epoch 45/150\n",
            "\u001b[1m7/7\u001b[0m \u001b[32m━━━━━━━━━━━━━━━━━━━━\u001b[0m\u001b[37m\u001b[0m \u001b[1m0s\u001b[0m 14ms/step - accuracy: 0.4569 - loss: -378.1746 - val_accuracy: 0.3761 - val_loss: -365.2681\n",
            "Epoch 46/150\n",
            "\u001b[1m7/7\u001b[0m \u001b[32m━━━━━━━━━━━━━━━━━━━━\u001b[0m\u001b[37m\u001b[0m \u001b[1m0s\u001b[0m 13ms/step - accuracy: 0.4655 - loss: -405.1252 - val_accuracy: 0.3670 - val_loss: -417.3996\n",
            "Epoch 47/150\n",
            "\u001b[1m7/7\u001b[0m \u001b[32m━━━━━━━━━━━━━━━━━━━━\u001b[0m\u001b[37m\u001b[0m \u001b[1m0s\u001b[0m 13ms/step - accuracy: 0.4536 - loss: -451.5462 - val_accuracy: 0.3670 - val_loss: -474.5319\n",
            "Epoch 48/150\n",
            "\u001b[1m7/7\u001b[0m \u001b[32m━━━━━━━━━━━━━━━━━━━━\u001b[0m\u001b[37m\u001b[0m \u001b[1m0s\u001b[0m 13ms/step - accuracy: 0.4317 - loss: -439.8768 - val_accuracy: 0.3761 - val_loss: -536.4615\n",
            "Epoch 49/150\n",
            "\u001b[1m7/7\u001b[0m \u001b[32m━━━━━━━━━━━━━━━━━━━━\u001b[0m\u001b[37m\u001b[0m \u001b[1m0s\u001b[0m 14ms/step - accuracy: 0.4134 - loss: -637.1290 - val_accuracy: 0.3853 - val_loss: -606.8469\n",
            "Epoch 50/150\n",
            "\u001b[1m7/7\u001b[0m \u001b[32m━━━━━━━━━━━━━━━━━━━━\u001b[0m\u001b[37m\u001b[0m \u001b[1m0s\u001b[0m 13ms/step - accuracy: 0.4407 - loss: -775.2057 - val_accuracy: 0.3761 - val_loss: -685.8489\n",
            "Epoch 51/150\n",
            "\u001b[1m7/7\u001b[0m \u001b[32m━━━━━━━━━━━━━━━━━━━━\u001b[0m\u001b[37m\u001b[0m \u001b[1m0s\u001b[0m 22ms/step - accuracy: 0.4534 - loss: -725.0185 - val_accuracy: 0.3761 - val_loss: -768.3644\n",
            "Epoch 52/150\n",
            "\u001b[1m7/7\u001b[0m \u001b[32m━━━━━━━━━━━━━━━━━━━━\u001b[0m\u001b[37m\u001b[0m \u001b[1m0s\u001b[0m 13ms/step - accuracy: 0.4317 - loss: -892.8781 - val_accuracy: 0.3486 - val_loss: -861.5497\n",
            "Epoch 53/150\n",
            "\u001b[1m7/7\u001b[0m \u001b[32m━━━━━━━━━━━━━━━━━━━━\u001b[0m\u001b[37m\u001b[0m \u001b[1m0s\u001b[0m 15ms/step - accuracy: 0.4402 - loss: -634.8150 - val_accuracy: 0.3578 - val_loss: -953.7012\n",
            "Epoch 54/150\n",
            "\u001b[1m7/7\u001b[0m \u001b[32m━━━━━━━━━━━━━━━━━━━━\u001b[0m\u001b[37m\u001b[0m \u001b[1m0s\u001b[0m 13ms/step - accuracy: 0.4358 - loss: -1155.6572 - val_accuracy: 0.3578 - val_loss: -1067.2876\n",
            "Epoch 55/150\n",
            "\u001b[1m7/7\u001b[0m \u001b[32m━━━━━━━━━━━━━━━━━━━━\u001b[0m\u001b[37m\u001b[0m \u001b[1m0s\u001b[0m 14ms/step - accuracy: 0.4026 - loss: -1122.6555 - val_accuracy: 0.3578 - val_loss: -1186.5164\n",
            "Epoch 56/150\n",
            "\u001b[1m7/7\u001b[0m \u001b[32m━━━━━━━━━━━━━━━━━━━━\u001b[0m\u001b[37m\u001b[0m \u001b[1m0s\u001b[0m 14ms/step - accuracy: 0.4558 - loss: -1224.9700 - val_accuracy: 0.3578 - val_loss: -1316.0537\n",
            "Epoch 57/150\n",
            "\u001b[1m7/7\u001b[0m \u001b[32m━━━━━━━━━━━━━━━━━━━━\u001b[0m\u001b[37m\u001b[0m \u001b[1m0s\u001b[0m 13ms/step - accuracy: 0.4060 - loss: -1678.4148 - val_accuracy: 0.3578 - val_loss: -1465.8702\n",
            "Epoch 58/150\n",
            "\u001b[1m7/7\u001b[0m \u001b[32m━━━━━━━━━━━━━━━━━━━━\u001b[0m\u001b[37m\u001b[0m \u001b[1m0s\u001b[0m 14ms/step - accuracy: 0.4233 - loss: -1415.7977 - val_accuracy: 0.3578 - val_loss: -1610.9309\n",
            "Epoch 59/150\n",
            "\u001b[1m7/7\u001b[0m \u001b[32m━━━━━━━━━━━━━━━━━━━━\u001b[0m\u001b[37m\u001b[0m \u001b[1m0s\u001b[0m 14ms/step - accuracy: 0.4488 - loss: -1917.6471 - val_accuracy: 0.3578 - val_loss: -1779.9843\n",
            "Epoch 60/150\n",
            "\u001b[1m7/7\u001b[0m \u001b[32m━━━━━━━━━━━━━━━━━━━━\u001b[0m\u001b[37m\u001b[0m \u001b[1m0s\u001b[0m 13ms/step - accuracy: 0.4488 - loss: -1631.4755 - val_accuracy: 0.3578 - val_loss: -1957.6713\n",
            "Epoch 61/150\n",
            "\u001b[1m7/7\u001b[0m \u001b[32m━━━━━━━━━━━━━━━━━━━━\u001b[0m\u001b[37m\u001b[0m \u001b[1m0s\u001b[0m 13ms/step - accuracy: 0.4442 - loss: -2009.3705 - val_accuracy: 0.3578 - val_loss: -2152.9319\n",
            "Epoch 62/150\n",
            "\u001b[1m7/7\u001b[0m \u001b[32m━━━━━━━━━━━━━━━━━━━━\u001b[0m\u001b[37m\u001b[0m \u001b[1m0s\u001b[0m 14ms/step - accuracy: 0.4345 - loss: -2238.2349 - val_accuracy: 0.3578 - val_loss: -2365.0420\n",
            "Epoch 63/150\n",
            "\u001b[1m7/7\u001b[0m \u001b[32m━━━━━━━━━━━━━━━━━━━━\u001b[0m\u001b[37m\u001b[0m \u001b[1m0s\u001b[0m 14ms/step - accuracy: 0.4457 - loss: -2504.2441 - val_accuracy: 0.3578 - val_loss: -2594.3079\n",
            "Epoch 64/150\n",
            "\u001b[1m7/7\u001b[0m \u001b[32m━━━━━━━━━━━━━━━━━━━━\u001b[0m\u001b[37m\u001b[0m \u001b[1m0s\u001b[0m 14ms/step - accuracy: 0.4629 - loss: -3162.8887 - val_accuracy: 0.3578 - val_loss: -2848.9182\n",
            "Epoch 65/150\n",
            "\u001b[1m7/7\u001b[0m \u001b[32m━━━━━━━━━━━━━━━━━━━━\u001b[0m\u001b[37m\u001b[0m \u001b[1m0s\u001b[0m 14ms/step - accuracy: 0.4438 - loss: -3132.4070 - val_accuracy: 0.3578 - val_loss: -3116.0093\n",
            "Epoch 66/150\n",
            "\u001b[1m7/7\u001b[0m \u001b[32m━━━━━━━━━━━━━━━━━━━━\u001b[0m\u001b[37m\u001b[0m \u001b[1m0s\u001b[0m 13ms/step - accuracy: 0.4238 - loss: -4169.1538 - val_accuracy: 0.3578 - val_loss: -3406.5688\n",
            "Epoch 67/150\n",
            "\u001b[1m7/7\u001b[0m \u001b[32m━━━━━━━━━━━━━━━━━━━━\u001b[0m\u001b[37m\u001b[0m \u001b[1m0s\u001b[0m 14ms/step - accuracy: 0.4251 - loss: -3322.5701 - val_accuracy: 0.3578 - val_loss: -3699.1194\n",
            "Epoch 68/150\n",
            "\u001b[1m7/7\u001b[0m \u001b[32m━━━━━━━━━━━━━━━━━━━━\u001b[0m\u001b[37m\u001b[0m \u001b[1m0s\u001b[0m 14ms/step - accuracy: 0.4501 - loss: -3925.2656 - val_accuracy: 0.3578 - val_loss: -4023.1350\n",
            "Epoch 69/150\n",
            "\u001b[1m7/7\u001b[0m \u001b[32m━━━━━━━━━━━━━━━━━━━━\u001b[0m\u001b[37m\u001b[0m \u001b[1m0s\u001b[0m 15ms/step - accuracy: 0.4344 - loss: -5193.5669 - val_accuracy: 0.3578 - val_loss: -4387.7046\n",
            "Epoch 70/150\n",
            "\u001b[1m7/7\u001b[0m \u001b[32m━━━━━━━━━━━━━━━━━━━━\u001b[0m\u001b[37m\u001b[0m \u001b[1m0s\u001b[0m 13ms/step - accuracy: 0.4623 - loss: -5190.9521 - val_accuracy: 0.3578 - val_loss: -4757.0283\n",
            "Epoch 71/150\n",
            "\u001b[1m7/7\u001b[0m \u001b[32m━━━━━━━━━━━━━━━━━━━━\u001b[0m\u001b[37m\u001b[0m \u001b[1m0s\u001b[0m 19ms/step - accuracy: 0.4280 - loss: -5064.8604 - val_accuracy: 0.3578 - val_loss: -5142.5845\n",
            "Epoch 72/150\n",
            "\u001b[1m7/7\u001b[0m \u001b[32m━━━━━━━━━━━━━━━━━━━━\u001b[0m\u001b[37m\u001b[0m \u001b[1m0s\u001b[0m 20ms/step - accuracy: 0.4207 - loss: -5753.3696 - val_accuracy: 0.3578 - val_loss: -5565.4712\n",
            "Epoch 73/150\n",
            "\u001b[1m7/7\u001b[0m \u001b[32m━━━━━━━━━━━━━━━━━━━━\u001b[0m\u001b[37m\u001b[0m \u001b[1m0s\u001b[0m 13ms/step - accuracy: 0.4259 - loss: -6782.8179 - val_accuracy: 0.3578 - val_loss: -6012.8877\n",
            "Epoch 74/150\n",
            "\u001b[1m7/7\u001b[0m \u001b[32m━━━━━━━━━━━━━━━━━━━━\u001b[0m\u001b[37m\u001b[0m \u001b[1m0s\u001b[0m 15ms/step - accuracy: 0.4300 - loss: -5586.1299 - val_accuracy: 0.3578 - val_loss: -6481.7896\n",
            "Epoch 75/150\n",
            "\u001b[1m7/7\u001b[0m \u001b[32m━━━━━━━━━━━━━━━━━━━━\u001b[0m\u001b[37m\u001b[0m \u001b[1m0s\u001b[0m 14ms/step - accuracy: 0.4317 - loss: -6793.1489 - val_accuracy: 0.3578 - val_loss: -6999.2363\n",
            "Epoch 76/150\n",
            "\u001b[1m7/7\u001b[0m \u001b[32m━━━━━━━━━━━━━━━━━━━━\u001b[0m\u001b[37m\u001b[0m \u001b[1m0s\u001b[0m 13ms/step - accuracy: 0.4193 - loss: -8301.6523 - val_accuracy: 0.3578 - val_loss: -7565.0962\n",
            "Epoch 77/150\n",
            "\u001b[1m7/7\u001b[0m \u001b[32m━━━━━━━━━━━━━━━━━━━━\u001b[0m\u001b[37m\u001b[0m \u001b[1m0s\u001b[0m 14ms/step - accuracy: 0.4267 - loss: -10492.1553 - val_accuracy: 0.3578 - val_loss: -8159.4922\n",
            "Epoch 78/150\n",
            "\u001b[1m7/7\u001b[0m \u001b[32m━━━━━━━━━━━━━━━━━━━━\u001b[0m\u001b[37m\u001b[0m \u001b[1m0s\u001b[0m 13ms/step - accuracy: 0.4276 - loss: -9775.2285 - val_accuracy: 0.3578 - val_loss: -8770.0859\n",
            "Epoch 79/150\n",
            "\u001b[1m7/7\u001b[0m \u001b[32m━━━━━━━━━━━━━━━━━━━━\u001b[0m\u001b[37m\u001b[0m \u001b[1m0s\u001b[0m 13ms/step - accuracy: 0.4322 - loss: -10231.0244 - val_accuracy: 0.3578 - val_loss: -9400.4229\n",
            "Epoch 80/150\n",
            "\u001b[1m7/7\u001b[0m \u001b[32m━━━━━━━━━━━━━━━━━━━━\u001b[0m\u001b[37m\u001b[0m \u001b[1m0s\u001b[0m 13ms/step - accuracy: 0.4365 - loss: -12838.8027 - val_accuracy: 0.3578 - val_loss: -10086.5439\n",
            "Epoch 81/150\n",
            "\u001b[1m7/7\u001b[0m \u001b[32m━━━━━━━━━━━━━━━━━━━━\u001b[0m\u001b[37m\u001b[0m \u001b[1m0s\u001b[0m 24ms/step - accuracy: 0.4295 - loss: -10317.0576 - val_accuracy: 0.3578 - val_loss: -10762.5400\n",
            "Epoch 82/150\n",
            "\u001b[1m7/7\u001b[0m \u001b[32m━━━━━━━━━━━━━━━━━━━━\u001b[0m\u001b[37m\u001b[0m \u001b[1m0s\u001b[0m 24ms/step - accuracy: 0.4506 - loss: -13542.5508 - val_accuracy: 0.3578 - val_loss: -11537.0352\n",
            "Epoch 83/150\n",
            "\u001b[1m7/7\u001b[0m \u001b[32m━━━━━━━━━━━━━━━━━━━━\u001b[0m\u001b[37m\u001b[0m \u001b[1m0s\u001b[0m 20ms/step - accuracy: 0.4116 - loss: -11454.9414 - val_accuracy: 0.3578 - val_loss: -12262.8809\n",
            "Epoch 84/150\n",
            "\u001b[1m7/7\u001b[0m \u001b[32m━━━━━━━━━━━━━━━━━━━━\u001b[0m\u001b[37m\u001b[0m \u001b[1m0s\u001b[0m 26ms/step - accuracy: 0.4369 - loss: -15621.6641 - val_accuracy: 0.3578 - val_loss: -13091.3145\n",
            "Epoch 85/150\n",
            "\u001b[1m7/7\u001b[0m \u001b[32m━━━━━━━━━━━━━━━━━━━━\u001b[0m\u001b[37m\u001b[0m \u001b[1m0s\u001b[0m 21ms/step - accuracy: 0.4478 - loss: -14454.7529 - val_accuracy: 0.3578 - val_loss: -13926.3682\n",
            "Epoch 86/150\n",
            "\u001b[1m7/7\u001b[0m \u001b[32m━━━━━━━━━━━━━━━━━━━━\u001b[0m\u001b[37m\u001b[0m \u001b[1m0s\u001b[0m 27ms/step - accuracy: 0.4228 - loss: -15620.6006 - val_accuracy: 0.3578 - val_loss: -14792.3662\n",
            "Epoch 87/150\n",
            "\u001b[1m7/7\u001b[0m \u001b[32m━━━━━━━━━━━━━━━━━━━━\u001b[0m\u001b[37m\u001b[0m \u001b[1m0s\u001b[0m 27ms/step - accuracy: 0.4273 - loss: -16019.2637 - val_accuracy: 0.3578 - val_loss: -15712.8877\n",
            "Epoch 88/150\n",
            "\u001b[1m7/7\u001b[0m \u001b[32m━━━━━━━━━━━━━━━━━━━━\u001b[0m\u001b[37m\u001b[0m \u001b[1m0s\u001b[0m 21ms/step - accuracy: 0.4332 - loss: -18607.4941 - val_accuracy: 0.3578 - val_loss: -16713.8184\n",
            "Epoch 89/150\n",
            "\u001b[1m7/7\u001b[0m \u001b[32m━━━━━━━━━━━━━━━━━━━━\u001b[0m\u001b[37m\u001b[0m \u001b[1m0s\u001b[0m 14ms/step - accuracy: 0.4390 - loss: -18178.0742 - val_accuracy: 0.3578 - val_loss: -17742.5254\n",
            "Epoch 90/150\n",
            "\u001b[1m7/7\u001b[0m \u001b[32m━━━━━━━━━━━━━━━━━━━━\u001b[0m\u001b[37m\u001b[0m \u001b[1m0s\u001b[0m 13ms/step - accuracy: 0.4183 - loss: -20208.3145 - val_accuracy: 0.3578 - val_loss: -18839.6738\n",
            "Epoch 91/150\n",
            "\u001b[1m7/7\u001b[0m \u001b[32m━━━━━━━━━━━━━━━━━━━━\u001b[0m\u001b[37m\u001b[0m \u001b[1m0s\u001b[0m 13ms/step - accuracy: 0.4244 - loss: -18145.4746 - val_accuracy: 0.3578 - val_loss: -19945.9355\n",
            "Epoch 92/150\n",
            "\u001b[1m7/7\u001b[0m \u001b[32m━━━━━━━━━━━━━━━━━━━━\u001b[0m\u001b[37m\u001b[0m \u001b[1m0s\u001b[0m 15ms/step - accuracy: 0.4218 - loss: -26580.2949 - val_accuracy: 0.3578 - val_loss: -21220.2852\n",
            "Epoch 93/150\n",
            "\u001b[1m7/7\u001b[0m \u001b[32m━━━━━━━━━━━━━━━━━━━━\u001b[0m\u001b[37m\u001b[0m \u001b[1m0s\u001b[0m 14ms/step - accuracy: 0.4298 - loss: -21073.3730 - val_accuracy: 0.3578 - val_loss: -22450.3945\n",
            "Epoch 94/150\n",
            "\u001b[1m7/7\u001b[0m \u001b[32m━━━━━━━━━━━━━━━━━━━━\u001b[0m\u001b[37m\u001b[0m \u001b[1m0s\u001b[0m 14ms/step - accuracy: 0.4621 - loss: -23406.7168 - val_accuracy: 0.3578 - val_loss: -23775.3516\n",
            "Epoch 95/150\n",
            "\u001b[1m7/7\u001b[0m \u001b[32m━━━━━━━━━━━━━━━━━━━━\u001b[0m\u001b[37m\u001b[0m \u001b[1m0s\u001b[0m 14ms/step - accuracy: 0.4365 - loss: -24217.1328 - val_accuracy: 0.3578 - val_loss: -25169.6523\n",
            "Epoch 96/150\n",
            "\u001b[1m7/7\u001b[0m \u001b[32m━━━━━━━━━━━━━━━━━━━━\u001b[0m\u001b[37m\u001b[0m \u001b[1m0s\u001b[0m 16ms/step - accuracy: 0.4441 - loss: -34419.7695 - val_accuracy: 0.3578 - val_loss: -26711.8379\n",
            "Epoch 97/150\n",
            "\u001b[1m7/7\u001b[0m \u001b[32m━━━━━━━━━━━━━━━━━━━━\u001b[0m\u001b[37m\u001b[0m \u001b[1m0s\u001b[0m 14ms/step - accuracy: 0.4506 - loss: -23389.9902 - val_accuracy: 0.3578 - val_loss: -28145.1152\n",
            "Epoch 98/150\n",
            "\u001b[1m7/7\u001b[0m \u001b[32m━━━━━━━━━━━━━━━━━━━━\u001b[0m\u001b[37m\u001b[0m \u001b[1m0s\u001b[0m 13ms/step - accuracy: 0.4206 - loss: -27723.9883 - val_accuracy: 0.3578 - val_loss: -29728.4023\n",
            "Epoch 99/150\n",
            "\u001b[1m7/7\u001b[0m \u001b[32m━━━━━━━━━━━━━━━━━━━━\u001b[0m\u001b[37m\u001b[0m \u001b[1m0s\u001b[0m 13ms/step - accuracy: 0.4352 - loss: -27262.9609 - val_accuracy: 0.3486 - val_loss: -31323.2480\n",
            "Epoch 100/150\n",
            "\u001b[1m7/7\u001b[0m \u001b[32m━━━━━━━━━━━━━━━━━━━━\u001b[0m\u001b[37m\u001b[0m \u001b[1m0s\u001b[0m 16ms/step - accuracy: 0.4473 - loss: -32503.0938 - val_accuracy: 0.3578 - val_loss: -33025.7656\n",
            "Epoch 101/150\n",
            "\u001b[1m7/7\u001b[0m \u001b[32m━━━━━━━━━━━━━━━━━━━━\u001b[0m\u001b[37m\u001b[0m \u001b[1m0s\u001b[0m 14ms/step - accuracy: 0.4104 - loss: -33003.6992 - val_accuracy: 0.3578 - val_loss: -34749.1758\n",
            "Epoch 102/150\n",
            "\u001b[1m7/7\u001b[0m \u001b[32m━━━━━━━━━━━━━━━━━━━━\u001b[0m\u001b[37m\u001b[0m \u001b[1m0s\u001b[0m 21ms/step - accuracy: 0.4108 - loss: -42751.1094 - val_accuracy: 0.3578 - val_loss: -36666.8203\n",
            "Epoch 103/150\n",
            "\u001b[1m7/7\u001b[0m \u001b[32m━━━━━━━━━━━━━━━━━━━━\u001b[0m\u001b[37m\u001b[0m \u001b[1m0s\u001b[0m 13ms/step - accuracy: 0.4216 - loss: -46581.0625 - val_accuracy: 0.3578 - val_loss: -38645.0430\n",
            "Epoch 104/150\n",
            "\u001b[1m7/7\u001b[0m \u001b[32m━━━━━━━━━━━━━━━━━━━━\u001b[0m\u001b[37m\u001b[0m \u001b[1m0s\u001b[0m 15ms/step - accuracy: 0.4573 - loss: -41215.1367 - val_accuracy: 0.3578 - val_loss: -40622.1641\n",
            "Epoch 105/150\n",
            "\u001b[1m7/7\u001b[0m \u001b[32m━━━━━━━━━━━━━━━━━━━━\u001b[0m\u001b[37m\u001b[0m \u001b[1m0s\u001b[0m 13ms/step - accuracy: 0.4543 - loss: -38790.1445 - val_accuracy: 0.3578 - val_loss: -42655.3438\n",
            "Epoch 106/150\n",
            "\u001b[1m7/7\u001b[0m \u001b[32m━━━━━━━━━━━━━━━━━━━━\u001b[0m\u001b[37m\u001b[0m \u001b[1m0s\u001b[0m 14ms/step - accuracy: 0.4263 - loss: -42413.1445 - val_accuracy: 0.3486 - val_loss: -44859.8789\n",
            "Epoch 107/150\n",
            "\u001b[1m7/7\u001b[0m \u001b[32m━━━━━━━━━━━━━━━━━━━━\u001b[0m\u001b[37m\u001b[0m \u001b[1m0s\u001b[0m 14ms/step - accuracy: 0.4497 - loss: -54050.7812 - val_accuracy: 0.3486 - val_loss: -47160.5195\n",
            "Epoch 108/150\n",
            "\u001b[1m7/7\u001b[0m \u001b[32m━━━━━━━━━━━━━━━━━━━━\u001b[0m\u001b[37m\u001b[0m \u001b[1m0s\u001b[0m 14ms/step - accuracy: 0.4280 - loss: -52253.6523 - val_accuracy: 0.3486 - val_loss: -49500.9219\n",
            "Epoch 109/150\n",
            "\u001b[1m7/7\u001b[0m \u001b[32m━━━━━━━━━━━━━━━━━━━━\u001b[0m\u001b[37m\u001b[0m \u001b[1m0s\u001b[0m 15ms/step - accuracy: 0.4449 - loss: -57719.1758 - val_accuracy: 0.3486 - val_loss: -52001.9023\n",
            "Epoch 110/150\n",
            "\u001b[1m7/7\u001b[0m \u001b[32m━━━━━━━━━━━━━━━━━━━━\u001b[0m\u001b[37m\u001b[0m \u001b[1m0s\u001b[0m 14ms/step - accuracy: 0.4339 - loss: -57683.5391 - val_accuracy: 0.3394 - val_loss: -54539.9219\n",
            "Epoch 111/150\n",
            "\u001b[1m7/7\u001b[0m \u001b[32m━━━━━━━━━━━━━━━━━━━━\u001b[0m\u001b[37m\u001b[0m \u001b[1m0s\u001b[0m 14ms/step - accuracy: 0.4399 - loss: -66180.3203 - val_accuracy: 0.3486 - val_loss: -57208.5898\n",
            "Epoch 112/150\n",
            "\u001b[1m7/7\u001b[0m \u001b[32m━━━━━━━━━━━━━━━━━━━━\u001b[0m\u001b[37m\u001b[0m \u001b[1m0s\u001b[0m 14ms/step - accuracy: 0.4339 - loss: -55218.5039 - val_accuracy: 0.3578 - val_loss: -59798.7578\n",
            "Epoch 113/150\n",
            "\u001b[1m7/7\u001b[0m \u001b[32m━━━━━━━━━━━━━━━━━━━━\u001b[0m\u001b[37m\u001b[0m \u001b[1m0s\u001b[0m 14ms/step - accuracy: 0.4483 - loss: -62772.5625 - val_accuracy: 0.3486 - val_loss: -62547.0156\n",
            "Epoch 114/150\n",
            "\u001b[1m7/7\u001b[0m \u001b[32m━━━━━━━━━━━━━━━━━━━━\u001b[0m\u001b[37m\u001b[0m \u001b[1m0s\u001b[0m 14ms/step - accuracy: 0.4509 - loss: -63790.4062 - val_accuracy: 0.3486 - val_loss: -65525.8203\n",
            "Epoch 115/150\n",
            "\u001b[1m7/7\u001b[0m \u001b[32m━━━━━━━━━━━━━━━━━━━━\u001b[0m\u001b[37m\u001b[0m \u001b[1m0s\u001b[0m 14ms/step - accuracy: 0.4580 - loss: -72465.8516 - val_accuracy: 0.3578 - val_loss: -68661.8047\n",
            "Epoch 116/150\n",
            "\u001b[1m7/7\u001b[0m \u001b[32m━━━━━━━━━━━━━━━━━━━━\u001b[0m\u001b[37m\u001b[0m \u001b[1m0s\u001b[0m 14ms/step - accuracy: 0.4043 - loss: -93795.2344 - val_accuracy: 0.3486 - val_loss: -71983.8359\n",
            "Epoch 117/150\n",
            "\u001b[1m7/7\u001b[0m \u001b[32m━━━━━━━━━━━━━━━━━━━━\u001b[0m\u001b[37m\u001b[0m \u001b[1m0s\u001b[0m 14ms/step - accuracy: 0.4061 - loss: -92833.8906 - val_accuracy: 0.3486 - val_loss: -75282.8281\n",
            "Epoch 118/150\n",
            "\u001b[1m7/7\u001b[0m \u001b[32m━━━━━━━━━━━━━━━━━━━━\u001b[0m\u001b[37m\u001b[0m \u001b[1m0s\u001b[0m 20ms/step - accuracy: 0.4090 - loss: -93406.6250 - val_accuracy: 0.3394 - val_loss: -78638.4609\n",
            "Epoch 119/150\n",
            "\u001b[1m7/7\u001b[0m \u001b[32m━━━━━━━━━━━━━━━━━━━━\u001b[0m\u001b[37m\u001b[0m \u001b[1m0s\u001b[0m 15ms/step - accuracy: 0.4446 - loss: -78179.0547 - val_accuracy: 0.3486 - val_loss: -81966.7188\n",
            "Epoch 120/150\n",
            "\u001b[1m7/7\u001b[0m \u001b[32m━━━━━━━━━━━━━━━━━━━━\u001b[0m\u001b[37m\u001b[0m \u001b[1m0s\u001b[0m 14ms/step - accuracy: 0.4470 - loss: -96085.9062 - val_accuracy: 0.3486 - val_loss: -85683.4609\n",
            "Epoch 121/150\n",
            "\u001b[1m7/7\u001b[0m \u001b[32m━━━━━━━━━━━━━━━━━━━━\u001b[0m\u001b[37m\u001b[0m \u001b[1m0s\u001b[0m 14ms/step - accuracy: 0.4422 - loss: -105100.8516 - val_accuracy: 0.3486 - val_loss: -89458.2109\n",
            "Epoch 122/150\n",
            "\u001b[1m7/7\u001b[0m \u001b[32m━━━━━━━━━━━━━━━━━━━━\u001b[0m\u001b[37m\u001b[0m \u001b[1m0s\u001b[0m 20ms/step - accuracy: 0.4522 - loss: -90253.0234 - val_accuracy: 0.3578 - val_loss: -93253.5078\n",
            "Epoch 123/150\n",
            "\u001b[1m7/7\u001b[0m \u001b[32m━━━━━━━━━━━━━━━━━━━━\u001b[0m\u001b[37m\u001b[0m \u001b[1m0s\u001b[0m 16ms/step - accuracy: 0.4536 - loss: -111304.6250 - val_accuracy: 0.3394 - val_loss: -97387.8828\n",
            "Epoch 124/150\n",
            "\u001b[1m7/7\u001b[0m \u001b[32m━━━━━━━━━━━━━━━━━━━━\u001b[0m\u001b[37m\u001b[0m \u001b[1m0s\u001b[0m 14ms/step - accuracy: 0.4392 - loss: -98664.0469 - val_accuracy: 0.3670 - val_loss: -101480.9062\n",
            "Epoch 125/150\n",
            "\u001b[1m7/7\u001b[0m \u001b[32m━━━━━━━━━━━━━━━━━━━━\u001b[0m\u001b[37m\u001b[0m \u001b[1m0s\u001b[0m 14ms/step - accuracy: 0.4006 - loss: -149997.8750 - val_accuracy: 0.3578 - val_loss: -106122.0469\n",
            "Epoch 126/150\n",
            "\u001b[1m7/7\u001b[0m \u001b[32m━━━━━━━━━━━━━━━━━━━━\u001b[0m\u001b[37m\u001b[0m \u001b[1m0s\u001b[0m 16ms/step - accuracy: 0.4451 - loss: -116303.5391 - val_accuracy: 0.3578 - val_loss: -110322.6875\n",
            "Epoch 127/150\n",
            "\u001b[1m7/7\u001b[0m \u001b[32m━━━━━━━━━━━━━━━━━━━━\u001b[0m\u001b[37m\u001b[0m \u001b[1m0s\u001b[0m 20ms/step - accuracy: 0.4315 - loss: -108940.9219 - val_accuracy: 0.3578 - val_loss: -114755.1406\n",
            "Epoch 128/150\n",
            "\u001b[1m7/7\u001b[0m \u001b[32m━━━━━━━━━━━━━━━━━━━━\u001b[0m\u001b[37m\u001b[0m \u001b[1m0s\u001b[0m 14ms/step - accuracy: 0.4475 - loss: -126668.4375 - val_accuracy: 0.3578 - val_loss: -119446.4531\n",
            "Epoch 129/150\n",
            "\u001b[1m7/7\u001b[0m \u001b[32m━━━━━━━━━━━━━━━━━━━━\u001b[0m\u001b[37m\u001b[0m \u001b[1m0s\u001b[0m 14ms/step - accuracy: 0.4500 - loss: -145248.8438 - val_accuracy: 0.3578 - val_loss: -124385.5625\n",
            "Epoch 130/150\n",
            "\u001b[1m7/7\u001b[0m \u001b[32m━━━━━━━━━━━━━━━━━━━━\u001b[0m\u001b[37m\u001b[0m \u001b[1m0s\u001b[0m 14ms/step - accuracy: 0.4548 - loss: -144205.6094 - val_accuracy: 0.3578 - val_loss: -129345.8750\n",
            "Epoch 131/150\n",
            "\u001b[1m7/7\u001b[0m \u001b[32m━━━━━━━━━━━━━━━━━━━━\u001b[0m\u001b[37m\u001b[0m \u001b[1m0s\u001b[0m 14ms/step - accuracy: 0.4088 - loss: -139732.0625 - val_accuracy: 0.3578 - val_loss: -134418.7188\n",
            "Epoch 132/150\n",
            "\u001b[1m7/7\u001b[0m \u001b[32m━━━━━━━━━━━━━━━━━━━━\u001b[0m\u001b[37m\u001b[0m \u001b[1m0s\u001b[0m 14ms/step - accuracy: 0.4530 - loss: -139212.4688 - val_accuracy: 0.3578 - val_loss: -139741.8281\n",
            "Epoch 133/150\n",
            "\u001b[1m7/7\u001b[0m \u001b[32m━━━━━━━━━━━━━━━━━━━━\u001b[0m\u001b[37m\u001b[0m \u001b[1m0s\u001b[0m 14ms/step - accuracy: 0.4292 - loss: -154275.5000 - val_accuracy: 0.3578 - val_loss: -145100.2969\n",
            "Epoch 134/150\n",
            "\u001b[1m7/7\u001b[0m \u001b[32m━━━━━━━━━━━━━━━━━━━━\u001b[0m\u001b[37m\u001b[0m \u001b[1m0s\u001b[0m 16ms/step - accuracy: 0.4414 - loss: -188875.2812 - val_accuracy: 0.3578 - val_loss: -150901.8594\n",
            "Epoch 135/150\n",
            "\u001b[1m7/7\u001b[0m \u001b[32m━━━━━━━━━━━━━━━━━━━━\u001b[0m\u001b[37m\u001b[0m \u001b[1m0s\u001b[0m 14ms/step - accuracy: 0.4256 - loss: -161602.7500 - val_accuracy: 0.3578 - val_loss: -156530.8750\n",
            "Epoch 136/150\n",
            "\u001b[1m7/7\u001b[0m \u001b[32m━━━━━━━━━━━━━━━━━━━━\u001b[0m\u001b[37m\u001b[0m \u001b[1m0s\u001b[0m 14ms/step - accuracy: 0.4422 - loss: -171621.0000 - val_accuracy: 0.3578 - val_loss: -162461.7188\n",
            "Epoch 137/150\n",
            "\u001b[1m7/7\u001b[0m \u001b[32m━━━━━━━━━━━━━━━━━━━━\u001b[0m\u001b[37m\u001b[0m \u001b[1m0s\u001b[0m 14ms/step - accuracy: 0.3987 - loss: -181609.7500 - val_accuracy: 0.3578 - val_loss: -168702.7188\n",
            "Epoch 138/150\n",
            "\u001b[1m7/7\u001b[0m \u001b[32m━━━━━━━━━━━━━━━━━━━━\u001b[0m\u001b[37m\u001b[0m \u001b[1m0s\u001b[0m 13ms/step - accuracy: 0.4332 - loss: -216364.5000 - val_accuracy: 0.3578 - val_loss: -175210.8594\n",
            "Epoch 139/150\n",
            "\u001b[1m7/7\u001b[0m \u001b[32m━━━━━━━━━━━━━━━━━━━━\u001b[0m\u001b[37m\u001b[0m \u001b[1m0s\u001b[0m 15ms/step - accuracy: 0.4197 - loss: -219825.4062 - val_accuracy: 0.3578 - val_loss: -181688.3281\n",
            "Epoch 140/150\n",
            "\u001b[1m7/7\u001b[0m \u001b[32m━━━━━━━━━━━━━━━━━━━━\u001b[0m\u001b[37m\u001b[0m \u001b[1m0s\u001b[0m 14ms/step - accuracy: 0.4083 - loss: -226686.9688 - val_accuracy: 0.3578 - val_loss: -188374.6719\n",
            "Epoch 141/150\n",
            "\u001b[1m7/7\u001b[0m \u001b[32m━━━━━━━━━━━━━━━━━━━━\u001b[0m\u001b[37m\u001b[0m \u001b[1m0s\u001b[0m 17ms/step - accuracy: 0.4534 - loss: -228401.2188 - val_accuracy: 0.3578 - val_loss: -195113.8750\n",
            "Epoch 142/150\n",
            "\u001b[1m7/7\u001b[0m \u001b[32m━━━━━━━━━━━━━━━━━━━━\u001b[0m\u001b[37m\u001b[0m \u001b[1m0s\u001b[0m 15ms/step - accuracy: 0.4575 - loss: -229627.7656 - val_accuracy: 0.3578 - val_loss: -201961.6406\n",
            "Epoch 143/150\n",
            "\u001b[1m7/7\u001b[0m \u001b[32m━━━━━━━━━━━━━━━━━━━━\u001b[0m\u001b[37m\u001b[0m \u001b[1m0s\u001b[0m 14ms/step - accuracy: 0.4219 - loss: -225229.7188 - val_accuracy: 0.3578 - val_loss: -209035.8906\n",
            "Epoch 144/150\n",
            "\u001b[1m7/7\u001b[0m \u001b[32m━━━━━━━━━━━━━━━━━━━━\u001b[0m\u001b[37m\u001b[0m \u001b[1m0s\u001b[0m 14ms/step - accuracy: 0.4367 - loss: -261447.4219 - val_accuracy: 0.3578 - val_loss: -216606.5938\n",
            "Epoch 145/150\n",
            "\u001b[1m7/7\u001b[0m \u001b[32m━━━━━━━━━━━━━━━━━━━━\u001b[0m\u001b[37m\u001b[0m \u001b[1m0s\u001b[0m 14ms/step - accuracy: 0.4471 - loss: -204379.3438 - val_accuracy: 0.3578 - val_loss: -223759.5156\n",
            "Epoch 146/150\n",
            "\u001b[1m7/7\u001b[0m \u001b[32m━━━━━━━━━━━━━━━━━━━━\u001b[0m\u001b[37m\u001b[0m \u001b[1m0s\u001b[0m 16ms/step - accuracy: 0.4144 - loss: -267773.9375 - val_accuracy: 0.3578 - val_loss: -231820.2500\n",
            "Epoch 147/150\n",
            "\u001b[1m7/7\u001b[0m \u001b[32m━━━━━━━━━━━━━━━━━━━━\u001b[0m\u001b[37m\u001b[0m \u001b[1m0s\u001b[0m 20ms/step - accuracy: 0.4326 - loss: -300709.8750 - val_accuracy: 0.3578 - val_loss: -240054.6406\n",
            "Epoch 148/150\n",
            "\u001b[1m7/7\u001b[0m \u001b[32m━━━━━━━━━━━━━━━━━━━━\u001b[0m\u001b[37m\u001b[0m \u001b[1m0s\u001b[0m 14ms/step - accuracy: 0.4181 - loss: -243800.1562 - val_accuracy: 0.3578 - val_loss: -247983.5156\n",
            "Epoch 149/150\n",
            "\u001b[1m7/7\u001b[0m \u001b[32m━━━━━━━━━━━━━━━━━━━━\u001b[0m\u001b[37m\u001b[0m \u001b[1m0s\u001b[0m 14ms/step - accuracy: 0.4170 - loss: -280780.2812 - val_accuracy: 0.3578 - val_loss: -256557.3594\n",
            "Epoch 150/150\n",
            "\u001b[1m7/7\u001b[0m \u001b[32m━━━━━━━━━━━━━━━━━━━━\u001b[0m\u001b[37m\u001b[0m \u001b[1m0s\u001b[0m 14ms/step - accuracy: 0.4478 - loss: -283578.9688 - val_accuracy: 0.3578 - val_loss: -265345.1562\n"
          ]
        }
      ]
    },
    {
      "cell_type": "code",
      "source": [
        "model.save(\"diabetes_ann_model.h5\")"
      ],
      "metadata": {
        "colab": {
          "base_uri": "https://localhost:8080/"
        },
        "id": "ZImWeN2cNz5v",
        "outputId": "73a282e8-caca-41cf-d497-98ed1b881335"
      },
      "execution_count": 39,
      "outputs": [
        {
          "output_type": "stream",
          "name": "stderr",
          "text": [
            "WARNING:absl:You are saving your model as an HDF5 file via `model.save()` or `keras.saving.save_model(model)`. This file format is considered legacy. We recommend using instead the native Keras format, e.g. `model.save('my_model.keras')` or `keras.saving.save_model(model, 'my_model.keras')`. \n"
          ]
        }
      ]
    },
    {
      "cell_type": "code",
      "source": [
        "# Evaluate model\n",
        "train_loss, train_acc = model.evaluate(X_train, y_train, verbose=0)\n",
        "test_loss, test_acc = model.evaluate(X_test, y_test, verbose=0)"
      ],
      "metadata": {
        "id": "_5RzTCzjJgbO"
      },
      "execution_count": 40,
      "outputs": []
    },
    {
      "cell_type": "code",
      "source": [
        "print(f\"Training Accuracy: {train_acc:.4f}\")\n",
        "print(f\"Testing Accuracy: {test_acc:.4f}\")"
      ],
      "metadata": {
        "colab": {
          "base_uri": "https://localhost:8080/"
        },
        "id": "ViF-W70iJkxw",
        "outputId": "b7a447dd-ba94-4892-8ef4-98b1d8c026bc"
      },
      "execution_count": 41,
      "outputs": [
        {
          "output_type": "stream",
          "name": "stdout",
          "text": [
            "Training Accuracy: 0.4312\n",
            "Testing Accuracy: 0.3578\n"
          ]
        }
      ]
    },
    {
      "cell_type": "code",
      "source": [
        "# Predictions\n",
        "y_pred = (model.predict(X_test) > 0.5).astype(int)"
      ],
      "metadata": {
        "colab": {
          "base_uri": "https://localhost:8080/"
        },
        "id": "FIpbh_R0JrlB",
        "outputId": "d5cfe362-80c4-44ad-f81f-68689a4ffecd"
      },
      "execution_count": 42,
      "outputs": [
        {
          "output_type": "stream",
          "name": "stdout",
          "text": [
            "\u001b[1m4/4\u001b[0m \u001b[32m━━━━━━━━━━━━━━━━━━━━\u001b[0m\u001b[37m\u001b[0m \u001b[1m0s\u001b[0m 7ms/step \n"
          ]
        }
      ]
    },
    {
      "cell_type": "code",
      "source": [
        "# Confusion matrix\n",
        "print(\"Confusion Matrix:\\n\", confusion_matrix(y_test, y_pred))"
      ],
      "metadata": {
        "colab": {
          "base_uri": "https://localhost:8080/"
        },
        "id": "gnMDCju9KAhT",
        "outputId": "fb80d33d-93d7-4668-afde-65b017cfed88"
      },
      "execution_count": 43,
      "outputs": [
        {
          "output_type": "stream",
          "name": "stdout",
          "text": [
            "Confusion Matrix:\n",
            " [[ 0 29  0]\n",
            " [ 0 39  0]\n",
            " [ 0 41  0]]\n"
          ]
        }
      ]
    },
    {
      "source": [
        "#classification report\n",
        "print(\"Classification Report:\\n\", classification_report(y_test, y_pred))"
      ],
      "cell_type": "code",
      "metadata": {
        "colab": {
          "base_uri": "https://localhost:8080/"
        },
        "id": "9ULHUv1kKMxz",
        "outputId": "02742ecd-8109-4a78-e953-1e3a235a4493"
      },
      "execution_count": 44,
      "outputs": [
        {
          "output_type": "stream",
          "name": "stdout",
          "text": [
            "Classification Report:\n",
            "               precision    recall  f1-score   support\n",
            "\n",
            "           0       0.00      0.00      0.00        29\n",
            "           1       0.36      1.00      0.53        39\n",
            "           2       0.00      0.00      0.00        41\n",
            "\n",
            "    accuracy                           0.36       109\n",
            "   macro avg       0.12      0.33      0.18       109\n",
            "weighted avg       0.13      0.36      0.19       109\n",
            "\n"
          ]
        },
        {
          "output_type": "stream",
          "name": "stderr",
          "text": [
            "/usr/local/lib/python3.11/dist-packages/sklearn/metrics/_classification.py:1565: UndefinedMetricWarning: Precision is ill-defined and being set to 0.0 in labels with no predicted samples. Use `zero_division` parameter to control this behavior.\n",
            "  _warn_prf(average, modifier, f\"{metric.capitalize()} is\", len(result))\n",
            "/usr/local/lib/python3.11/dist-packages/sklearn/metrics/_classification.py:1565: UndefinedMetricWarning: Precision is ill-defined and being set to 0.0 in labels with no predicted samples. Use `zero_division` parameter to control this behavior.\n",
            "  _warn_prf(average, modifier, f\"{metric.capitalize()} is\", len(result))\n",
            "/usr/local/lib/python3.11/dist-packages/sklearn/metrics/_classification.py:1565: UndefinedMetricWarning: Precision is ill-defined and being set to 0.0 in labels with no predicted samples. Use `zero_division` parameter to control this behavior.\n",
            "  _warn_prf(average, modifier, f\"{metric.capitalize()} is\", len(result))\n"
          ]
        }
      ]
    },
    {
      "cell_type": "code",
      "source": [
        "# Load and use the saved model\n",
        "loaded_model = keras.models.load_model(\"diabetes_ann_model.h5\")"
      ],
      "metadata": {
        "colab": {
          "base_uri": "https://localhost:8080/"
        },
        "id": "IZatpZYPOeJN",
        "outputId": "d7edbd5e-1e29-447e-e6f2-77e21d772045"
      },
      "execution_count": 49,
      "outputs": [
        {
          "output_type": "stream",
          "name": "stderr",
          "text": [
            "WARNING:absl:Compiled the loaded model, but the compiled metrics have yet to be built. `model.compile_metrics` will be empty until you train or evaluate the model.\n"
          ]
        }
      ]
    },
    {
      "cell_type": "code",
      "source": [
        "def predict_diabetes(input_data):\n",
        "    input_data = np.array(input_data).reshape(1, -1)\n",
        "    input_data = scaler.transform(input_data)\n",
        "    prediction = loaded_model.predict(input_data)\n",
        "    return \"Diabetic\" if prediction[0][0] > 0.5 else \"Not Diabetic\""
      ],
      "metadata": {
        "id": "12JOxPk5K79T"
      },
      "execution_count": 52,
      "outputs": []
    },
    {
      "cell_type": "code",
      "source": [
        "# Example prediction\n",
        "sample_input = X_test[0]\n",
        "print(\"Prediction:\", predict_diabetes(sample_input))"
      ],
      "metadata": {
        "colab": {
          "base_uri": "https://localhost:8080/"
        },
        "id": "WXa4SyQVLRTZ",
        "outputId": "1f19edc8-bf0b-49da-c269-97442d9a5b47"
      },
      "execution_count": 53,
      "outputs": [
        {
          "output_type": "stream",
          "name": "stdout",
          "text": [
            "\u001b[1m1/1\u001b[0m \u001b[32m━━━━━━━━━━━━━━━━━━━━\u001b[0m\u001b[37m\u001b[0m \u001b[1m0s\u001b[0m 88ms/step\n",
            "Prediction: Diabetic\n"
          ]
        }
      ]
    },
    {
      "source": [
        "def predict_diabetes(input_data):\n",
        "    input_data = np.array(input_data).reshape(1, -1)\n",
        "    input_data = scaler.transform(input_data)\n",
        "    # Use the trained model 'model' instead of 'loaded_model'\n",
        "    prediction = model.predict(input_data)\n",
        "    return \"Diabetic\" if prediction[0][0] > 0.5 else \"Not Diabetic\""
      ],
      "cell_type": "code",
      "metadata": {
        "id": "5ELUJRozNUHf"
      },
      "execution_count": 35,
      "outputs": []
    },
    {
      "source": [
        "# Example prediction\n",
        "sample_input = X_test[0]\n",
        "print(\"Prediction:\", predict_diabetes(sample_input))"
      ],
      "cell_type": "code",
      "metadata": {
        "colab": {
          "base_uri": "https://localhost:8080/"
        },
        "id": "FX3O4XDWNd0x",
        "outputId": "870b7520-18dd-4c3c-88f3-7b3517be1aec"
      },
      "execution_count": 54,
      "outputs": [
        {
          "output_type": "stream",
          "name": "stdout",
          "text": [
            "\u001b[1m1/1\u001b[0m \u001b[32m━━━━━━━━━━━━━━━━━━━━\u001b[0m\u001b[37m\u001b[0m \u001b[1m0s\u001b[0m 116ms/step\n",
            "Prediction: Diabetic\n"
          ]
        }
      ]
    }
  ]
}