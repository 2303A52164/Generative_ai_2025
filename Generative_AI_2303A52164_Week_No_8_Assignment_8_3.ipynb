{
  "nbformat": 4,
  "nbformat_minor": 0,
  "metadata": {
    "colab": {
      "provenance": [],
      "authorship_tag": "ABX9TyNV8Yxz72m346H4ONcq8ZSF",
      "include_colab_link": true
    },
    "kernelspec": {
      "name": "python3",
      "display_name": "Python 3"
    },
    "language_info": {
      "name": "python"
    }
  },
  "cells": [
    {
      "cell_type": "markdown",
      "metadata": {
        "id": "view-in-github",
        "colab_type": "text"
      },
      "source": [
        "<a href=\"https://colab.research.google.com/github/2303A52164/Generative_ai_2025/blob/main/Generative_AI_2303A52164_Week_No_8_Assignment_8_3.ipynb\" target=\"_parent\"><img src=\"https://colab.research.google.com/assets/colab-badge.svg\" alt=\"Open In Colab\"/></a>"
      ]
    },
    {
      "cell_type": "markdown",
      "source": [
        "# **Generative AI - Assignment - 8.3**"
      ],
      "metadata": {
        "id": "O2ISrAUzKpSe"
      }
    },
    {
      "cell_type": "code",
      "execution_count": 1,
      "metadata": {
        "id": "UC0KW3SYHgmX"
      },
      "outputs": [],
      "source": [
        "import numpy as np\n",
        "import pandas as pd\n",
        "import tensorflow as tf\n",
        "from tensorflow import keras\n",
        "from sklearn.model_selection import train_test_split\n",
        "from sklearn.preprocessing import StandardScaler\n",
        "from sklearn.metrics import confusion_matrix, classification_report\n",
        "import seaborn as sns\n",
        "import matplotlib.pyplot as plt"
      ]
    },
    {
      "cell_type": "code",
      "source": [
        "df = pd.read_csv('/content/winequality-red (1).csv')"
      ],
      "metadata": {
        "id": "8y257dZ0Irr8"
      },
      "execution_count": 4,
      "outputs": []
    },
    {
      "cell_type": "code",
      "source": [
        "# Split data into features and labels\n",
        "X = df.drop(columns=['quality'])\n",
        "y = df['quality']"
      ],
      "metadata": {
        "id": "XPfRogSBJWEO"
      },
      "execution_count": 5,
      "outputs": []
    },
    {
      "cell_type": "code",
      "source": [
        "# Convert quality into binary classification (good/bad wine)\n",
        "y = (y >= 6).astype(int)"
      ],
      "metadata": {
        "id": "Akc9iykKJbg5"
      },
      "execution_count": 6,
      "outputs": []
    },
    {
      "cell_type": "code",
      "source": [
        "# Split into training and testing sets\n",
        "X_train, X_test, y_train, y_test = train_test_split(X, y, test_size=0.2, random_state=42)"
      ],
      "metadata": {
        "id": "yLoTN2h-Jgry"
      },
      "execution_count": 7,
      "outputs": []
    },
    {
      "cell_type": "code",
      "source": [
        "# Normalize features\n",
        "scaler = StandardScaler()\n",
        "X_train = scaler.fit_transform(X_train)\n",
        "X_test = scaler.transform(X_test)"
      ],
      "metadata": {
        "id": "UAEFHizzJlhb"
      },
      "execution_count": 8,
      "outputs": []
    },
    {
      "cell_type": "code",
      "source": [
        "# Build ANN model\n",
        "model = keras.Sequential([\n",
        "    keras.layers.Dense(16, activation='sigmoid', input_shape=(X_train.shape[1],)),\n",
        "    keras.layers.Dense(24, activation='sigmoid'),\n",
        "    keras.layers.Dense(10, activation='sigmoid'),\n",
        "    keras.layers.Dense(1, activation='sigmoid')\n",
        "])"
      ],
      "metadata": {
        "colab": {
          "base_uri": "https://localhost:8080/"
        },
        "id": "Gkrv07lXJpfl",
        "outputId": "eaeb0b40-874e-4a2b-a2b4-1b5915d88a64"
      },
      "execution_count": 18,
      "outputs": [
        {
          "output_type": "stream",
          "name": "stderr",
          "text": [
            "/usr/local/lib/python3.11/dist-packages/keras/src/layers/core/dense.py:87: UserWarning: Do not pass an `input_shape`/`input_dim` argument to a layer. When using Sequential models, prefer using an `Input(shape)` object as the first layer in the model instead.\n",
            "  super().__init__(activity_regularizer=activity_regularizer, **kwargs)\n"
          ]
        }
      ]
    },
    {
      "cell_type": "code",
      "source": [
        "# Compile model\n",
        "model.compile(optimizer='rmsprop', loss='binary_crossentropy', metrics=['accuracy'])"
      ],
      "metadata": {
        "id": "Wm27v9tVJu3B"
      },
      "execution_count": 19,
      "outputs": []
    },
    {
      "cell_type": "code",
      "source": [
        "# Train model\n",
        "history = model.fit(X_train, y_train, epochs=260, batch_size=64, validation_data=(X_test, y_test))"
      ],
      "metadata": {
        "colab": {
          "base_uri": "https://localhost:8080/"
        },
        "id": "PXQDG0YFJ0QU",
        "outputId": "9522a3a0-936d-4401-b454-48b20a7f67c3"
      },
      "execution_count": 20,
      "outputs": [
        {
          "output_type": "stream",
          "name": "stdout",
          "text": [
            "Epoch 1/260\n",
            "\u001b[1m20/20\u001b[0m \u001b[32m━━━━━━━━━━━━━━━━━━━━\u001b[0m\u001b[37m\u001b[0m \u001b[1m2s\u001b[0m 18ms/step - accuracy: 0.5309 - loss: 0.6926 - val_accuracy: 0.5594 - val_loss: 0.6855\n",
            "Epoch 2/260\n",
            "\u001b[1m20/20\u001b[0m \u001b[32m━━━━━━━━━━━━━━━━━━━━\u001b[0m\u001b[37m\u001b[0m \u001b[1m0s\u001b[0m 6ms/step - accuracy: 0.5190 - loss: 0.6913 - val_accuracy: 0.5594 - val_loss: 0.6838\n",
            "Epoch 3/260\n",
            "\u001b[1m20/20\u001b[0m \u001b[32m━━━━━━━━━━━━━━━━━━━━\u001b[0m\u001b[37m\u001b[0m \u001b[1m0s\u001b[0m 6ms/step - accuracy: 0.5362 - loss: 0.6861 - val_accuracy: 0.5594 - val_loss: 0.6819\n",
            "Epoch 4/260\n",
            "\u001b[1m20/20\u001b[0m \u001b[32m━━━━━━━━━━━━━━━━━━━━\u001b[0m\u001b[37m\u001b[0m \u001b[1m0s\u001b[0m 6ms/step - accuracy: 0.5524 - loss: 0.6825 - val_accuracy: 0.5625 - val_loss: 0.6805\n",
            "Epoch 5/260\n",
            "\u001b[1m20/20\u001b[0m \u001b[32m━━━━━━━━━━━━━━━━━━━━\u001b[0m\u001b[37m\u001b[0m \u001b[1m0s\u001b[0m 8ms/step - accuracy: 0.5341 - loss: 0.6819 - val_accuracy: 0.5594 - val_loss: 0.6755\n",
            "Epoch 6/260\n",
            "\u001b[1m20/20\u001b[0m \u001b[32m━━━━━━━━━━━━━━━━━━━━\u001b[0m\u001b[37m\u001b[0m \u001b[1m0s\u001b[0m 7ms/step - accuracy: 0.5397 - loss: 0.6761 - val_accuracy: 0.5688 - val_loss: 0.6711\n",
            "Epoch 7/260\n",
            "\u001b[1m20/20\u001b[0m \u001b[32m━━━━━━━━━━━━━━━━━━━━\u001b[0m\u001b[37m\u001b[0m \u001b[1m0s\u001b[0m 7ms/step - accuracy: 0.5756 - loss: 0.6728 - val_accuracy: 0.6187 - val_loss: 0.6657\n",
            "Epoch 8/260\n",
            "\u001b[1m20/20\u001b[0m \u001b[32m━━━━━━━━━━━━━━━━━━━━\u001b[0m\u001b[37m\u001b[0m \u001b[1m0s\u001b[0m 8ms/step - accuracy: 0.6145 - loss: 0.6695 - val_accuracy: 0.6156 - val_loss: 0.6588\n",
            "Epoch 9/260\n",
            "\u001b[1m20/20\u001b[0m \u001b[32m━━━━━━━━━━━━━━━━━━━━\u001b[0m\u001b[37m\u001b[0m \u001b[1m0s\u001b[0m 7ms/step - accuracy: 0.6380 - loss: 0.6628 - val_accuracy: 0.6250 - val_loss: 0.6507\n",
            "Epoch 10/260\n",
            "\u001b[1m20/20\u001b[0m \u001b[32m━━━━━━━━━━━━━━━━━━━━\u001b[0m\u001b[37m\u001b[0m \u001b[1m0s\u001b[0m 8ms/step - accuracy: 0.6357 - loss: 0.6618 - val_accuracy: 0.6531 - val_loss: 0.6426\n",
            "Epoch 11/260\n",
            "\u001b[1m20/20\u001b[0m \u001b[32m━━━━━━━━━━━━━━━━━━━━\u001b[0m\u001b[37m\u001b[0m \u001b[1m0s\u001b[0m 6ms/step - accuracy: 0.6829 - loss: 0.6470 - val_accuracy: 0.6969 - val_loss: 0.6328\n",
            "Epoch 12/260\n",
            "\u001b[1m20/20\u001b[0m \u001b[32m━━━━━━━━━━━━━━━━━━━━\u001b[0m\u001b[37m\u001b[0m \u001b[1m0s\u001b[0m 7ms/step - accuracy: 0.7041 - loss: 0.6376 - val_accuracy: 0.7156 - val_loss: 0.6232\n",
            "Epoch 13/260\n",
            "\u001b[1m20/20\u001b[0m \u001b[32m━━━━━━━━━━━━━━━━━━━━\u001b[0m\u001b[37m\u001b[0m \u001b[1m0s\u001b[0m 8ms/step - accuracy: 0.7146 - loss: 0.6295 - val_accuracy: 0.7188 - val_loss: 0.6135\n",
            "Epoch 14/260\n",
            "\u001b[1m20/20\u001b[0m \u001b[32m━━━━━━━━━━━━━━━━━━━━\u001b[0m\u001b[37m\u001b[0m \u001b[1m0s\u001b[0m 6ms/step - accuracy: 0.7513 - loss: 0.6079 - val_accuracy: 0.7344 - val_loss: 0.6027\n",
            "Epoch 15/260\n",
            "\u001b[1m20/20\u001b[0m \u001b[32m━━━━━━━━━━━━━━━━━━━━\u001b[0m\u001b[37m\u001b[0m \u001b[1m0s\u001b[0m 6ms/step - accuracy: 0.7298 - loss: 0.6024 - val_accuracy: 0.7375 - val_loss: 0.5909\n",
            "Epoch 16/260\n",
            "\u001b[1m20/20\u001b[0m \u001b[32m━━━━━━━━━━━━━━━━━━━━\u001b[0m\u001b[37m\u001b[0m \u001b[1m0s\u001b[0m 6ms/step - accuracy: 0.7295 - loss: 0.5903 - val_accuracy: 0.7406 - val_loss: 0.5822\n",
            "Epoch 17/260\n",
            "\u001b[1m20/20\u001b[0m \u001b[32m━━━━━━━━━━━━━━━━━━━━\u001b[0m\u001b[37m\u001b[0m \u001b[1m0s\u001b[0m 6ms/step - accuracy: 0.7269 - loss: 0.5844 - val_accuracy: 0.7437 - val_loss: 0.5720\n",
            "Epoch 18/260\n",
            "\u001b[1m20/20\u001b[0m \u001b[32m━━━━━━━━━━━━━━━━━━━━\u001b[0m\u001b[37m\u001b[0m \u001b[1m0s\u001b[0m 6ms/step - accuracy: 0.7547 - loss: 0.5608 - val_accuracy: 0.7437 - val_loss: 0.5625\n",
            "Epoch 19/260\n",
            "\u001b[1m20/20\u001b[0m \u001b[32m━━━━━━━━━━━━━━━━━━━━\u001b[0m\u001b[37m\u001b[0m \u001b[1m0s\u001b[0m 6ms/step - accuracy: 0.7313 - loss: 0.5693 - val_accuracy: 0.7437 - val_loss: 0.5532\n",
            "Epoch 20/260\n",
            "\u001b[1m20/20\u001b[0m \u001b[32m━━━━━━━━━━━━━━━━━━━━\u001b[0m\u001b[37m\u001b[0m \u001b[1m0s\u001b[0m 10ms/step - accuracy: 0.7509 - loss: 0.5472 - val_accuracy: 0.7469 - val_loss: 0.5476\n",
            "Epoch 21/260\n",
            "\u001b[1m20/20\u001b[0m \u001b[32m━━━━━━━━━━━━━━━━━━━━\u001b[0m\u001b[37m\u001b[0m \u001b[1m0s\u001b[0m 10ms/step - accuracy: 0.7521 - loss: 0.5511 - val_accuracy: 0.7500 - val_loss: 0.5421\n",
            "Epoch 22/260\n",
            "\u001b[1m20/20\u001b[0m \u001b[32m━━━━━━━━━━━━━━━━━━━━\u001b[0m\u001b[37m\u001b[0m \u001b[1m0s\u001b[0m 9ms/step - accuracy: 0.7509 - loss: 0.5356 - val_accuracy: 0.7312 - val_loss: 0.5399\n",
            "Epoch 23/260\n",
            "\u001b[1m20/20\u001b[0m \u001b[32m━━━━━━━━━━━━━━━━━━━━\u001b[0m\u001b[37m\u001b[0m \u001b[1m0s\u001b[0m 9ms/step - accuracy: 0.7292 - loss: 0.5522 - val_accuracy: 0.7500 - val_loss: 0.5348\n",
            "Epoch 24/260\n",
            "\u001b[1m20/20\u001b[0m \u001b[32m━━━━━━━━━━━━━━━━━━━━\u001b[0m\u001b[37m\u001b[0m \u001b[1m0s\u001b[0m 11ms/step - accuracy: 0.7321 - loss: 0.5424 - val_accuracy: 0.7437 - val_loss: 0.5322\n",
            "Epoch 25/260\n",
            "\u001b[1m20/20\u001b[0m \u001b[32m━━━━━━━━━━━━━━━━━━━━\u001b[0m\u001b[37m\u001b[0m \u001b[1m0s\u001b[0m 11ms/step - accuracy: 0.7273 - loss: 0.5538 - val_accuracy: 0.7406 - val_loss: 0.5304\n",
            "Epoch 26/260\n",
            "\u001b[1m20/20\u001b[0m \u001b[32m━━━━━━━━━━━━━━━━━━━━\u001b[0m\u001b[37m\u001b[0m \u001b[1m0s\u001b[0m 12ms/step - accuracy: 0.7204 - loss: 0.5496 - val_accuracy: 0.7344 - val_loss: 0.5294\n",
            "Epoch 27/260\n",
            "\u001b[1m20/20\u001b[0m \u001b[32m━━━━━━━━━━━━━━━━━━━━\u001b[0m\u001b[37m\u001b[0m \u001b[1m0s\u001b[0m 11ms/step - accuracy: 0.7376 - loss: 0.5380 - val_accuracy: 0.7312 - val_loss: 0.5288\n",
            "Epoch 28/260\n",
            "\u001b[1m20/20\u001b[0m \u001b[32m━━━━━━━━━━━━━━━━━━━━\u001b[0m\u001b[37m\u001b[0m \u001b[1m0s\u001b[0m 8ms/step - accuracy: 0.7487 - loss: 0.5362 - val_accuracy: 0.7406 - val_loss: 0.5268\n",
            "Epoch 29/260\n",
            "\u001b[1m20/20\u001b[0m \u001b[32m━━━━━━━━━━━━━━━━━━━━\u001b[0m\u001b[37m\u001b[0m \u001b[1m0s\u001b[0m 6ms/step - accuracy: 0.7275 - loss: 0.5478 - val_accuracy: 0.7375 - val_loss: 0.5265\n",
            "Epoch 30/260\n",
            "\u001b[1m20/20\u001b[0m \u001b[32m━━━━━━━━━━━━━━━━━━━━\u001b[0m\u001b[37m\u001b[0m \u001b[1m0s\u001b[0m 6ms/step - accuracy: 0.7567 - loss: 0.5231 - val_accuracy: 0.7312 - val_loss: 0.5274\n",
            "Epoch 31/260\n",
            "\u001b[1m20/20\u001b[0m \u001b[32m━━━━━━━━━━━━━━━━━━━━\u001b[0m\u001b[37m\u001b[0m \u001b[1m0s\u001b[0m 7ms/step - accuracy: 0.7503 - loss: 0.5174 - val_accuracy: 0.7344 - val_loss: 0.5254\n",
            "Epoch 32/260\n",
            "\u001b[1m20/20\u001b[0m \u001b[32m━━━━━━━━━━━━━━━━━━━━\u001b[0m\u001b[37m\u001b[0m \u001b[1m0s\u001b[0m 6ms/step - accuracy: 0.7305 - loss: 0.5470 - val_accuracy: 0.7344 - val_loss: 0.5248\n",
            "Epoch 33/260\n",
            "\u001b[1m20/20\u001b[0m \u001b[32m━━━━━━━━━━━━━━━━━━━━\u001b[0m\u001b[37m\u001b[0m \u001b[1m0s\u001b[0m 6ms/step - accuracy: 0.7560 - loss: 0.5222 - val_accuracy: 0.7344 - val_loss: 0.5240\n",
            "Epoch 34/260\n",
            "\u001b[1m20/20\u001b[0m \u001b[32m━━━━━━━━━━━━━━━━━━━━\u001b[0m\u001b[37m\u001b[0m \u001b[1m0s\u001b[0m 8ms/step - accuracy: 0.7400 - loss: 0.5335 - val_accuracy: 0.7375 - val_loss: 0.5234\n",
            "Epoch 35/260\n",
            "\u001b[1m20/20\u001b[0m \u001b[32m━━━━━━━━━━━━━━━━━━━━\u001b[0m\u001b[37m\u001b[0m \u001b[1m0s\u001b[0m 6ms/step - accuracy: 0.7561 - loss: 0.5174 - val_accuracy: 0.7281 - val_loss: 0.5248\n",
            "Epoch 36/260\n",
            "\u001b[1m20/20\u001b[0m \u001b[32m━━━━━━━━━━━━━━━━━━━━\u001b[0m\u001b[37m\u001b[0m \u001b[1m0s\u001b[0m 8ms/step - accuracy: 0.7609 - loss: 0.5049 - val_accuracy: 0.7312 - val_loss: 0.5234\n",
            "Epoch 37/260\n",
            "\u001b[1m20/20\u001b[0m \u001b[32m━━━━━━━━━━━━━━━━━━━━\u001b[0m\u001b[37m\u001b[0m \u001b[1m0s\u001b[0m 7ms/step - accuracy: 0.7410 - loss: 0.5305 - val_accuracy: 0.7281 - val_loss: 0.5242\n",
            "Epoch 38/260\n",
            "\u001b[1m20/20\u001b[0m \u001b[32m━━━━━━━━━━━━━━━━━━━━\u001b[0m\u001b[37m\u001b[0m \u001b[1m0s\u001b[0m 7ms/step - accuracy: 0.7623 - loss: 0.5103 - val_accuracy: 0.7312 - val_loss: 0.5236\n",
            "Epoch 39/260\n",
            "\u001b[1m20/20\u001b[0m \u001b[32m━━━━━━━━━━━━━━━━━━━━\u001b[0m\u001b[37m\u001b[0m \u001b[1m0s\u001b[0m 7ms/step - accuracy: 0.7655 - loss: 0.5038 - val_accuracy: 0.7344 - val_loss: 0.5243\n",
            "Epoch 40/260\n",
            "\u001b[1m20/20\u001b[0m \u001b[32m━━━━━━━━━━━━━━━━━━━━\u001b[0m\u001b[37m\u001b[0m \u001b[1m0s\u001b[0m 7ms/step - accuracy: 0.7430 - loss: 0.5290 - val_accuracy: 0.7312 - val_loss: 0.5230\n",
            "Epoch 41/260\n",
            "\u001b[1m20/20\u001b[0m \u001b[32m━━━━━━━━━━━━━━━━━━━━\u001b[0m\u001b[37m\u001b[0m \u001b[1m0s\u001b[0m 8ms/step - accuracy: 0.7639 - loss: 0.5183 - val_accuracy: 0.7344 - val_loss: 0.5234\n",
            "Epoch 42/260\n",
            "\u001b[1m20/20\u001b[0m \u001b[32m━━━━━━━━━━━━━━━━━━━━\u001b[0m\u001b[37m\u001b[0m \u001b[1m0s\u001b[0m 6ms/step - accuracy: 0.7379 - loss: 0.5390 - val_accuracy: 0.7437 - val_loss: 0.5216\n",
            "Epoch 43/260\n",
            "\u001b[1m20/20\u001b[0m \u001b[32m━━━━━━━━━━━━━━━━━━━━\u001b[0m\u001b[37m\u001b[0m \u001b[1m0s\u001b[0m 7ms/step - accuracy: 0.7446 - loss: 0.5319 - val_accuracy: 0.7312 - val_loss: 0.5228\n",
            "Epoch 44/260\n",
            "\u001b[1m20/20\u001b[0m \u001b[32m━━━━━━━━━━━━━━━━━━━━\u001b[0m\u001b[37m\u001b[0m \u001b[1m0s\u001b[0m 6ms/step - accuracy: 0.7552 - loss: 0.5254 - val_accuracy: 0.7344 - val_loss: 0.5233\n",
            "Epoch 45/260\n",
            "\u001b[1m20/20\u001b[0m \u001b[32m━━━━━━━━━━━━━━━━━━━━\u001b[0m\u001b[37m\u001b[0m \u001b[1m0s\u001b[0m 7ms/step - accuracy: 0.7447 - loss: 0.5302 - val_accuracy: 0.7344 - val_loss: 0.5243\n",
            "Epoch 46/260\n",
            "\u001b[1m20/20\u001b[0m \u001b[32m━━━━━━━━━━━━━━━━━━━━\u001b[0m\u001b[37m\u001b[0m \u001b[1m0s\u001b[0m 7ms/step - accuracy: 0.7505 - loss: 0.5255 - val_accuracy: 0.7312 - val_loss: 0.5222\n",
            "Epoch 47/260\n",
            "\u001b[1m20/20\u001b[0m \u001b[32m━━━━━━━━━━━━━━━━━━━━\u001b[0m\u001b[37m\u001b[0m \u001b[1m0s\u001b[0m 8ms/step - accuracy: 0.7781 - loss: 0.4967 - val_accuracy: 0.7312 - val_loss: 0.5223\n",
            "Epoch 48/260\n",
            "\u001b[1m20/20\u001b[0m \u001b[32m━━━━━━━━━━━━━━━━━━━━\u001b[0m\u001b[37m\u001b[0m \u001b[1m0s\u001b[0m 7ms/step - accuracy: 0.7607 - loss: 0.5211 - val_accuracy: 0.7312 - val_loss: 0.5221\n",
            "Epoch 49/260\n",
            "\u001b[1m20/20\u001b[0m \u001b[32m━━━━━━━━━━━━━━━━━━━━\u001b[0m\u001b[37m\u001b[0m \u001b[1m0s\u001b[0m 7ms/step - accuracy: 0.7507 - loss: 0.5184 - val_accuracy: 0.7375 - val_loss: 0.5211\n",
            "Epoch 50/260\n",
            "\u001b[1m20/20\u001b[0m \u001b[32m━━━━━━━━━━━━━━━━━━━━\u001b[0m\u001b[37m\u001b[0m \u001b[1m0s\u001b[0m 7ms/step - accuracy: 0.7499 - loss: 0.5221 - val_accuracy: 0.7344 - val_loss: 0.5226\n",
            "Epoch 51/260\n",
            "\u001b[1m20/20\u001b[0m \u001b[32m━━━━━━━━━━━━━━━━━━━━\u001b[0m\u001b[37m\u001b[0m \u001b[1m0s\u001b[0m 7ms/step - accuracy: 0.7444 - loss: 0.5340 - val_accuracy: 0.7344 - val_loss: 0.5227\n",
            "Epoch 52/260\n",
            "\u001b[1m20/20\u001b[0m \u001b[32m━━━━━━━━━━━━━━━━━━━━\u001b[0m\u001b[37m\u001b[0m \u001b[1m0s\u001b[0m 8ms/step - accuracy: 0.7570 - loss: 0.5148 - val_accuracy: 0.7375 - val_loss: 0.5220\n",
            "Epoch 53/260\n",
            "\u001b[1m20/20\u001b[0m \u001b[32m━━━━━━━━━━━━━━━━━━━━\u001b[0m\u001b[37m\u001b[0m \u001b[1m0s\u001b[0m 7ms/step - accuracy: 0.7505 - loss: 0.5155 - val_accuracy: 0.7344 - val_loss: 0.5217\n",
            "Epoch 54/260\n",
            "\u001b[1m20/20\u001b[0m \u001b[32m━━━━━━━━━━━━━━━━━━━━\u001b[0m\u001b[37m\u001b[0m \u001b[1m0s\u001b[0m 7ms/step - accuracy: 0.7294 - loss: 0.5278 - val_accuracy: 0.7375 - val_loss: 0.5230\n",
            "Epoch 55/260\n",
            "\u001b[1m20/20\u001b[0m \u001b[32m━━━━━━━━━━━━━━━━━━━━\u001b[0m\u001b[37m\u001b[0m \u001b[1m0s\u001b[0m 6ms/step - accuracy: 0.7583 - loss: 0.5175 - val_accuracy: 0.7375 - val_loss: 0.5221\n",
            "Epoch 56/260\n",
            "\u001b[1m20/20\u001b[0m \u001b[32m━━━━━━━━━━━━━━━━━━━━\u001b[0m\u001b[37m\u001b[0m \u001b[1m0s\u001b[0m 8ms/step - accuracy: 0.7332 - loss: 0.5389 - val_accuracy: 0.7344 - val_loss: 0.5212\n",
            "Epoch 57/260\n",
            "\u001b[1m20/20\u001b[0m \u001b[32m━━━━━━━━━━━━━━━━━━━━\u001b[0m\u001b[37m\u001b[0m \u001b[1m0s\u001b[0m 6ms/step - accuracy: 0.7502 - loss: 0.5190 - val_accuracy: 0.7375 - val_loss: 0.5216\n",
            "Epoch 58/260\n",
            "\u001b[1m20/20\u001b[0m \u001b[32m━━━━━━━━━━━━━━━━━━━━\u001b[0m\u001b[37m\u001b[0m \u001b[1m0s\u001b[0m 8ms/step - accuracy: 0.7424 - loss: 0.5222 - val_accuracy: 0.7375 - val_loss: 0.5227\n",
            "Epoch 59/260\n",
            "\u001b[1m20/20\u001b[0m \u001b[32m━━━━━━━━━━━━━━━━━━━━\u001b[0m\u001b[37m\u001b[0m \u001b[1m0s\u001b[0m 6ms/step - accuracy: 0.7466 - loss: 0.5261 - val_accuracy: 0.7375 - val_loss: 0.5197\n",
            "Epoch 60/260\n",
            "\u001b[1m20/20\u001b[0m \u001b[32m━━━━━━━━━━━━━━━━━━━━\u001b[0m\u001b[37m\u001b[0m \u001b[1m0s\u001b[0m 6ms/step - accuracy: 0.7517 - loss: 0.5082 - val_accuracy: 0.7375 - val_loss: 0.5205\n",
            "Epoch 61/260\n",
            "\u001b[1m20/20\u001b[0m \u001b[32m━━━━━━━━━━━━━━━━━━━━\u001b[0m\u001b[37m\u001b[0m \u001b[1m0s\u001b[0m 6ms/step - accuracy: 0.7484 - loss: 0.5197 - val_accuracy: 0.7375 - val_loss: 0.5209\n",
            "Epoch 62/260\n",
            "\u001b[1m20/20\u001b[0m \u001b[32m━━━━━━━━━━━━━━━━━━━━\u001b[0m\u001b[37m\u001b[0m \u001b[1m0s\u001b[0m 6ms/step - accuracy: 0.7521 - loss: 0.5192 - val_accuracy: 0.7375 - val_loss: 0.5201\n",
            "Epoch 63/260\n",
            "\u001b[1m20/20\u001b[0m \u001b[32m━━━━━━━━━━━━━━━━━━━━\u001b[0m\u001b[37m\u001b[0m \u001b[1m0s\u001b[0m 8ms/step - accuracy: 0.7512 - loss: 0.5129 - val_accuracy: 0.7375 - val_loss: 0.5208\n",
            "Epoch 64/260\n",
            "\u001b[1m20/20\u001b[0m \u001b[32m━━━━━━━━━━━━━━━━━━━━\u001b[0m\u001b[37m\u001b[0m \u001b[1m0s\u001b[0m 6ms/step - accuracy: 0.7708 - loss: 0.4904 - val_accuracy: 0.7375 - val_loss: 0.5204\n",
            "Epoch 65/260\n",
            "\u001b[1m20/20\u001b[0m \u001b[32m━━━━━━━━━━━━━━━━━━━━\u001b[0m\u001b[37m\u001b[0m \u001b[1m0s\u001b[0m 6ms/step - accuracy: 0.7573 - loss: 0.5209 - val_accuracy: 0.7375 - val_loss: 0.5200\n",
            "Epoch 66/260\n",
            "\u001b[1m20/20\u001b[0m \u001b[32m━━━━━━━━━━━━━━━━━━━━\u001b[0m\u001b[37m\u001b[0m \u001b[1m0s\u001b[0m 6ms/step - accuracy: 0.7488 - loss: 0.5300 - val_accuracy: 0.7375 - val_loss: 0.5201\n",
            "Epoch 67/260\n",
            "\u001b[1m20/20\u001b[0m \u001b[32m━━━━━━━━━━━━━━━━━━━━\u001b[0m\u001b[37m\u001b[0m \u001b[1m0s\u001b[0m 6ms/step - accuracy: 0.7592 - loss: 0.5156 - val_accuracy: 0.7344 - val_loss: 0.5193\n",
            "Epoch 68/260\n",
            "\u001b[1m20/20\u001b[0m \u001b[32m━━━━━━━━━━━━━━━━━━━━\u001b[0m\u001b[37m\u001b[0m \u001b[1m0s\u001b[0m 6ms/step - accuracy: 0.7445 - loss: 0.5331 - val_accuracy: 0.7375 - val_loss: 0.5197\n",
            "Epoch 69/260\n",
            "\u001b[1m20/20\u001b[0m \u001b[32m━━━━━━━━━━━━━━━━━━━━\u001b[0m\u001b[37m\u001b[0m \u001b[1m0s\u001b[0m 7ms/step - accuracy: 0.7545 - loss: 0.5220 - val_accuracy: 0.7375 - val_loss: 0.5203\n",
            "Epoch 70/260\n",
            "\u001b[1m20/20\u001b[0m \u001b[32m━━━━━━━━━━━━━━━━━━━━\u001b[0m\u001b[37m\u001b[0m \u001b[1m0s\u001b[0m 11ms/step - accuracy: 0.7707 - loss: 0.4899 - val_accuracy: 0.7375 - val_loss: 0.5199\n",
            "Epoch 71/260\n",
            "\u001b[1m20/20\u001b[0m \u001b[32m━━━━━━━━━━━━━━━━━━━━\u001b[0m\u001b[37m\u001b[0m \u001b[1m0s\u001b[0m 10ms/step - accuracy: 0.7609 - loss: 0.5106 - val_accuracy: 0.7437 - val_loss: 0.5206\n",
            "Epoch 72/260\n",
            "\u001b[1m20/20\u001b[0m \u001b[32m━━━━━━━━━━━━━━━━━━━━\u001b[0m\u001b[37m\u001b[0m \u001b[1m0s\u001b[0m 11ms/step - accuracy: 0.7507 - loss: 0.5248 - val_accuracy: 0.7375 - val_loss: 0.5187\n",
            "Epoch 73/260\n",
            "\u001b[1m20/20\u001b[0m \u001b[32m━━━━━━━━━━━━━━━━━━━━\u001b[0m\u001b[37m\u001b[0m \u001b[1m0s\u001b[0m 9ms/step - accuracy: 0.7591 - loss: 0.4985 - val_accuracy: 0.7344 - val_loss: 0.5190\n",
            "Epoch 74/260\n",
            "\u001b[1m20/20\u001b[0m \u001b[32m━━━━━━━━━━━━━━━━━━━━\u001b[0m\u001b[37m\u001b[0m \u001b[1m0s\u001b[0m 10ms/step - accuracy: 0.7520 - loss: 0.5027 - val_accuracy: 0.7375 - val_loss: 0.5195\n",
            "Epoch 75/260\n",
            "\u001b[1m20/20\u001b[0m \u001b[32m━━━━━━━━━━━━━━━━━━━━\u001b[0m\u001b[37m\u001b[0m \u001b[1m0s\u001b[0m 10ms/step - accuracy: 0.7379 - loss: 0.5291 - val_accuracy: 0.7469 - val_loss: 0.5206\n",
            "Epoch 76/260\n",
            "\u001b[1m20/20\u001b[0m \u001b[32m━━━━━━━━━━━━━━━━━━━━\u001b[0m\u001b[37m\u001b[0m \u001b[1m0s\u001b[0m 11ms/step - accuracy: 0.7506 - loss: 0.5198 - val_accuracy: 0.7437 - val_loss: 0.5202\n",
            "Epoch 77/260\n",
            "\u001b[1m20/20\u001b[0m \u001b[32m━━━━━━━━━━━━━━━━━━━━\u001b[0m\u001b[37m\u001b[0m \u001b[1m0s\u001b[0m 11ms/step - accuracy: 0.7637 - loss: 0.5060 - val_accuracy: 0.7344 - val_loss: 0.5194\n",
            "Epoch 78/260\n",
            "\u001b[1m20/20\u001b[0m \u001b[32m━━━━━━━━━━━━━━━━━━━━\u001b[0m\u001b[37m\u001b[0m \u001b[1m0s\u001b[0m 8ms/step - accuracy: 0.7678 - loss: 0.5101 - val_accuracy: 0.7406 - val_loss: 0.5219\n",
            "Epoch 79/260\n",
            "\u001b[1m20/20\u001b[0m \u001b[32m━━━━━━━━━━━━━━━━━━━━\u001b[0m\u001b[37m\u001b[0m \u001b[1m0s\u001b[0m 6ms/step - accuracy: 0.7506 - loss: 0.5212 - val_accuracy: 0.7437 - val_loss: 0.5202\n",
            "Epoch 80/260\n",
            "\u001b[1m20/20\u001b[0m \u001b[32m━━━━━━━━━━━━━━━━━━━━\u001b[0m\u001b[37m\u001b[0m \u001b[1m0s\u001b[0m 6ms/step - accuracy: 0.7544 - loss: 0.5142 - val_accuracy: 0.7437 - val_loss: 0.5200\n",
            "Epoch 81/260\n",
            "\u001b[1m20/20\u001b[0m \u001b[32m━━━━━━━━━━━━━━━━━━━━\u001b[0m\u001b[37m\u001b[0m \u001b[1m0s\u001b[0m 7ms/step - accuracy: 0.7505 - loss: 0.5108 - val_accuracy: 0.7406 - val_loss: 0.5190\n",
            "Epoch 82/260\n",
            "\u001b[1m20/20\u001b[0m \u001b[32m━━━━━━━━━━━━━━━━━━━━\u001b[0m\u001b[37m\u001b[0m \u001b[1m0s\u001b[0m 6ms/step - accuracy: 0.7447 - loss: 0.5199 - val_accuracy: 0.7375 - val_loss: 0.5229\n",
            "Epoch 83/260\n",
            "\u001b[1m20/20\u001b[0m \u001b[32m━━━━━━━━━━━━━━━━━━━━\u001b[0m\u001b[37m\u001b[0m \u001b[1m0s\u001b[0m 6ms/step - accuracy: 0.7493 - loss: 0.5155 - val_accuracy: 0.7406 - val_loss: 0.5189\n",
            "Epoch 84/260\n",
            "\u001b[1m20/20\u001b[0m \u001b[32m━━━━━━━━━━━━━━━━━━━━\u001b[0m\u001b[37m\u001b[0m \u001b[1m0s\u001b[0m 8ms/step - accuracy: 0.7445 - loss: 0.5179 - val_accuracy: 0.7406 - val_loss: 0.5189\n",
            "Epoch 85/260\n",
            "\u001b[1m20/20\u001b[0m \u001b[32m━━━━━━━━━━━━━━━━━━━━\u001b[0m\u001b[37m\u001b[0m \u001b[1m0s\u001b[0m 6ms/step - accuracy: 0.7481 - loss: 0.5244 - val_accuracy: 0.7406 - val_loss: 0.5192\n",
            "Epoch 86/260\n",
            "\u001b[1m20/20\u001b[0m \u001b[32m━━━━━━━━━━━━━━━━━━━━\u001b[0m\u001b[37m\u001b[0m \u001b[1m0s\u001b[0m 7ms/step - accuracy: 0.7650 - loss: 0.4958 - val_accuracy: 0.7406 - val_loss: 0.5188\n",
            "Epoch 87/260\n",
            "\u001b[1m20/20\u001b[0m \u001b[32m━━━━━━━━━━━━━━━━━━━━\u001b[0m\u001b[37m\u001b[0m \u001b[1m0s\u001b[0m 6ms/step - accuracy: 0.7495 - loss: 0.5165 - val_accuracy: 0.7375 - val_loss: 0.5182\n",
            "Epoch 88/260\n",
            "\u001b[1m20/20\u001b[0m \u001b[32m━━━━━━━━━━━━━━━━━━━━\u001b[0m\u001b[37m\u001b[0m \u001b[1m0s\u001b[0m 8ms/step - accuracy: 0.7690 - loss: 0.4886 - val_accuracy: 0.7406 - val_loss: 0.5179\n",
            "Epoch 89/260\n",
            "\u001b[1m20/20\u001b[0m \u001b[32m━━━━━━━━━━━━━━━━━━━━\u001b[0m\u001b[37m\u001b[0m \u001b[1m0s\u001b[0m 6ms/step - accuracy: 0.7368 - loss: 0.5326 - val_accuracy: 0.7406 - val_loss: 0.5196\n",
            "Epoch 90/260\n",
            "\u001b[1m20/20\u001b[0m \u001b[32m━━━━━━━━━━━━━━━━━━━━\u001b[0m\u001b[37m\u001b[0m \u001b[1m0s\u001b[0m 6ms/step - accuracy: 0.7634 - loss: 0.5031 - val_accuracy: 0.7437 - val_loss: 0.5194\n",
            "Epoch 91/260\n",
            "\u001b[1m20/20\u001b[0m \u001b[32m━━━━━━━━━━━━━━━━━━━━\u001b[0m\u001b[37m\u001b[0m \u001b[1m0s\u001b[0m 6ms/step - accuracy: 0.7468 - loss: 0.5197 - val_accuracy: 0.7406 - val_loss: 0.5182\n",
            "Epoch 92/260\n",
            "\u001b[1m20/20\u001b[0m \u001b[32m━━━━━━━━━━━━━━━━━━━━\u001b[0m\u001b[37m\u001b[0m \u001b[1m0s\u001b[0m 6ms/step - accuracy: 0.7503 - loss: 0.5197 - val_accuracy: 0.7406 - val_loss: 0.5188\n",
            "Epoch 93/260\n",
            "\u001b[1m20/20\u001b[0m \u001b[32m━━━━━━━━━━━━━━━━━━━━\u001b[0m\u001b[37m\u001b[0m \u001b[1m0s\u001b[0m 7ms/step - accuracy: 0.7377 - loss: 0.5264 - val_accuracy: 0.7437 - val_loss: 0.5196\n",
            "Epoch 94/260\n",
            "\u001b[1m20/20\u001b[0m \u001b[32m━━━━━━━━━━━━━━━━━━━━\u001b[0m\u001b[37m\u001b[0m \u001b[1m0s\u001b[0m 7ms/step - accuracy: 0.7463 - loss: 0.5206 - val_accuracy: 0.7406 - val_loss: 0.5182\n",
            "Epoch 95/260\n",
            "\u001b[1m20/20\u001b[0m \u001b[32m━━━━━━━━━━━━━━━━━━━━\u001b[0m\u001b[37m\u001b[0m \u001b[1m0s\u001b[0m 7ms/step - accuracy: 0.7480 - loss: 0.5114 - val_accuracy: 0.7406 - val_loss: 0.5176\n",
            "Epoch 96/260\n",
            "\u001b[1m20/20\u001b[0m \u001b[32m━━━━━━━━━━━━━━━━━━━━\u001b[0m\u001b[37m\u001b[0m \u001b[1m0s\u001b[0m 6ms/step - accuracy: 0.7366 - loss: 0.5303 - val_accuracy: 0.7406 - val_loss: 0.5187\n",
            "Epoch 97/260\n",
            "\u001b[1m20/20\u001b[0m \u001b[32m━━━━━━━━━━━━━━━━━━━━\u001b[0m\u001b[37m\u001b[0m \u001b[1m0s\u001b[0m 7ms/step - accuracy: 0.7608 - loss: 0.5024 - val_accuracy: 0.7406 - val_loss: 0.5186\n",
            "Epoch 98/260\n",
            "\u001b[1m20/20\u001b[0m \u001b[32m━━━━━━━━━━━━━━━━━━━━\u001b[0m\u001b[37m\u001b[0m \u001b[1m0s\u001b[0m 6ms/step - accuracy: 0.7522 - loss: 0.4977 - val_accuracy: 0.7375 - val_loss: 0.5178\n",
            "Epoch 99/260\n",
            "\u001b[1m20/20\u001b[0m \u001b[32m━━━━━━━━━━━━━━━━━━━━\u001b[0m\u001b[37m\u001b[0m \u001b[1m0s\u001b[0m 8ms/step - accuracy: 0.7658 - loss: 0.5025 - val_accuracy: 0.7406 - val_loss: 0.5182\n",
            "Epoch 100/260\n",
            "\u001b[1m20/20\u001b[0m \u001b[32m━━━━━━━━━━━━━━━━━━━━\u001b[0m\u001b[37m\u001b[0m \u001b[1m0s\u001b[0m 6ms/step - accuracy: 0.7624 - loss: 0.5103 - val_accuracy: 0.7375 - val_loss: 0.5187\n",
            "Epoch 101/260\n",
            "\u001b[1m20/20\u001b[0m \u001b[32m━━━━━━━━━━━━━━━━━━━━\u001b[0m\u001b[37m\u001b[0m \u001b[1m0s\u001b[0m 7ms/step - accuracy: 0.7596 - loss: 0.5119 - val_accuracy: 0.7406 - val_loss: 0.5202\n",
            "Epoch 102/260\n",
            "\u001b[1m20/20\u001b[0m \u001b[32m━━━━━━━━━━━━━━━━━━━━\u001b[0m\u001b[37m\u001b[0m \u001b[1m0s\u001b[0m 6ms/step - accuracy: 0.7586 - loss: 0.5006 - val_accuracy: 0.7375 - val_loss: 0.5181\n",
            "Epoch 103/260\n",
            "\u001b[1m20/20\u001b[0m \u001b[32m━━━━━━━━━━━━━━━━━━━━\u001b[0m\u001b[37m\u001b[0m \u001b[1m0s\u001b[0m 13ms/step - accuracy: 0.7506 - loss: 0.5108 - val_accuracy: 0.7437 - val_loss: 0.5171\n",
            "Epoch 104/260\n",
            "\u001b[1m20/20\u001b[0m \u001b[32m━━━━━━━━━━━━━━━━━━━━\u001b[0m\u001b[37m\u001b[0m \u001b[1m1s\u001b[0m 30ms/step - accuracy: 0.7535 - loss: 0.5127 - val_accuracy: 0.7375 - val_loss: 0.5181\n",
            "Epoch 105/260\n",
            "\u001b[1m20/20\u001b[0m \u001b[32m━━━━━━━━━━━━━━━━━━━━\u001b[0m\u001b[37m\u001b[0m \u001b[1m1s\u001b[0m 12ms/step - accuracy: 0.7603 - loss: 0.4878 - val_accuracy: 0.7375 - val_loss: 0.5181\n",
            "Epoch 106/260\n",
            "\u001b[1m20/20\u001b[0m \u001b[32m━━━━━━━━━━━━━━━━━━━━\u001b[0m\u001b[37m\u001b[0m \u001b[1m0s\u001b[0m 10ms/step - accuracy: 0.7294 - loss: 0.5329 - val_accuracy: 0.7406 - val_loss: 0.5174\n",
            "Epoch 107/260\n",
            "\u001b[1m20/20\u001b[0m \u001b[32m━━━━━━━━━━━━━━━━━━━━\u001b[0m\u001b[37m\u001b[0m \u001b[1m0s\u001b[0m 12ms/step - accuracy: 0.7511 - loss: 0.5094 - val_accuracy: 0.7375 - val_loss: 0.5178\n",
            "Epoch 108/260\n",
            "\u001b[1m20/20\u001b[0m \u001b[32m━━━━━━━━━━━━━━━━━━━━\u001b[0m\u001b[37m\u001b[0m \u001b[1m0s\u001b[0m 12ms/step - accuracy: 0.7619 - loss: 0.4982 - val_accuracy: 0.7344 - val_loss: 0.5181\n",
            "Epoch 109/260\n",
            "\u001b[1m20/20\u001b[0m \u001b[32m━━━━━━━━━━━━━━━━━━━━\u001b[0m\u001b[37m\u001b[0m \u001b[1m0s\u001b[0m 6ms/step - accuracy: 0.7582 - loss: 0.5098 - val_accuracy: 0.7406 - val_loss: 0.5166\n",
            "Epoch 110/260\n",
            "\u001b[1m20/20\u001b[0m \u001b[32m━━━━━━━━━━━━━━━━━━━━\u001b[0m\u001b[37m\u001b[0m \u001b[1m0s\u001b[0m 12ms/step - accuracy: 0.7361 - loss: 0.5368 - val_accuracy: 0.7375 - val_loss: 0.5173\n",
            "Epoch 111/260\n",
            "\u001b[1m20/20\u001b[0m \u001b[32m━━━━━━━━━━━━━━━━━━━━\u001b[0m\u001b[37m\u001b[0m \u001b[1m0s\u001b[0m 15ms/step - accuracy: 0.7564 - loss: 0.5186 - val_accuracy: 0.7344 - val_loss: 0.5177\n",
            "Epoch 112/260\n",
            "\u001b[1m20/20\u001b[0m \u001b[32m━━━━━━━━━━━━━━━━━━━━\u001b[0m\u001b[37m\u001b[0m \u001b[1m1s\u001b[0m 10ms/step - accuracy: 0.7615 - loss: 0.5008 - val_accuracy: 0.7375 - val_loss: 0.5175\n",
            "Epoch 113/260\n",
            "\u001b[1m20/20\u001b[0m \u001b[32m━━━━━━━━━━━━━━━━━━━━\u001b[0m\u001b[37m\u001b[0m \u001b[1m0s\u001b[0m 10ms/step - accuracy: 0.7372 - loss: 0.5207 - val_accuracy: 0.7406 - val_loss: 0.5166\n",
            "Epoch 114/260\n",
            "\u001b[1m20/20\u001b[0m \u001b[32m━━━━━━━━━━━━━━━━━━━━\u001b[0m\u001b[37m\u001b[0m \u001b[1m0s\u001b[0m 6ms/step - accuracy: 0.7584 - loss: 0.4962 - val_accuracy: 0.7375 - val_loss: 0.5187\n",
            "Epoch 115/260\n",
            "\u001b[1m20/20\u001b[0m \u001b[32m━━━━━━━━━━━━━━━━━━━━\u001b[0m\u001b[37m\u001b[0m \u001b[1m1s\u001b[0m 21ms/step - accuracy: 0.7712 - loss: 0.4992 - val_accuracy: 0.7406 - val_loss: 0.5164\n",
            "Epoch 116/260\n",
            "\u001b[1m20/20\u001b[0m \u001b[32m━━━━━━━━━━━━━━━━━━━━\u001b[0m\u001b[37m\u001b[0m \u001b[1m0s\u001b[0m 13ms/step - accuracy: 0.7428 - loss: 0.5200 - val_accuracy: 0.7344 - val_loss: 0.5179\n",
            "Epoch 117/260\n",
            "\u001b[1m20/20\u001b[0m \u001b[32m━━━━━━━━━━━━━━━━━━━━\u001b[0m\u001b[37m\u001b[0m \u001b[1m1s\u001b[0m 31ms/step - accuracy: 0.7487 - loss: 0.5238 - val_accuracy: 0.7375 - val_loss: 0.5160\n",
            "Epoch 118/260\n",
            "\u001b[1m20/20\u001b[0m \u001b[32m━━━━━━━━━━━━━━━━━━━━\u001b[0m\u001b[37m\u001b[0m \u001b[1m1s\u001b[0m 12ms/step - accuracy: 0.7535 - loss: 0.5142 - val_accuracy: 0.7344 - val_loss: 0.5172\n",
            "Epoch 119/260\n",
            "\u001b[1m20/20\u001b[0m \u001b[32m━━━━━━━━━━━━━━━━━━━━\u001b[0m\u001b[37m\u001b[0m \u001b[1m1s\u001b[0m 14ms/step - accuracy: 0.7343 - loss: 0.5268 - val_accuracy: 0.7344 - val_loss: 0.5174\n",
            "Epoch 120/260\n",
            "\u001b[1m20/20\u001b[0m \u001b[32m━━━━━━━━━━━━━━━━━━━━\u001b[0m\u001b[37m\u001b[0m \u001b[1m1s\u001b[0m 11ms/step - accuracy: 0.7368 - loss: 0.5165 - val_accuracy: 0.7344 - val_loss: 0.5175\n",
            "Epoch 121/260\n",
            "\u001b[1m20/20\u001b[0m \u001b[32m━━━━━━━━━━━━━━━━━━━━\u001b[0m\u001b[37m\u001b[0m \u001b[1m0s\u001b[0m 10ms/step - accuracy: 0.7512 - loss: 0.5120 - val_accuracy: 0.7375 - val_loss: 0.5163\n",
            "Epoch 122/260\n",
            "\u001b[1m20/20\u001b[0m \u001b[32m━━━━━━━━━━━━━━━━━━━━\u001b[0m\u001b[37m\u001b[0m \u001b[1m0s\u001b[0m 12ms/step - accuracy: 0.7568 - loss: 0.5164 - val_accuracy: 0.7344 - val_loss: 0.5177\n",
            "Epoch 123/260\n",
            "\u001b[1m20/20\u001b[0m \u001b[32m━━━━━━━━━━━━━━━━━━━━\u001b[0m\u001b[37m\u001b[0m \u001b[1m0s\u001b[0m 11ms/step - accuracy: 0.7509 - loss: 0.5003 - val_accuracy: 0.7344 - val_loss: 0.5176\n",
            "Epoch 124/260\n",
            "\u001b[1m20/20\u001b[0m \u001b[32m━━━━━━━━━━━━━━━━━━━━\u001b[0m\u001b[37m\u001b[0m \u001b[1m0s\u001b[0m 11ms/step - accuracy: 0.7742 - loss: 0.4908 - val_accuracy: 0.7406 - val_loss: 0.5157\n",
            "Epoch 125/260\n",
            "\u001b[1m20/20\u001b[0m \u001b[32m━━━━━━━━━━━━━━━━━━━━\u001b[0m\u001b[37m\u001b[0m \u001b[1m0s\u001b[0m 6ms/step - accuracy: 0.7423 - loss: 0.5294 - val_accuracy: 0.7375 - val_loss: 0.5158\n",
            "Epoch 126/260\n",
            "\u001b[1m20/20\u001b[0m \u001b[32m━━━━━━━━━━━━━━━━━━━━\u001b[0m\u001b[37m\u001b[0m \u001b[1m0s\u001b[0m 11ms/step - accuracy: 0.7543 - loss: 0.5116 - val_accuracy: 0.7406 - val_loss: 0.5154\n",
            "Epoch 127/260\n",
            "\u001b[1m20/20\u001b[0m \u001b[32m━━━━━━━━━━━━━━━━━━━━\u001b[0m\u001b[37m\u001b[0m \u001b[1m0s\u001b[0m 11ms/step - accuracy: 0.7400 - loss: 0.5237 - val_accuracy: 0.7344 - val_loss: 0.5160\n",
            "Epoch 128/260\n",
            "\u001b[1m20/20\u001b[0m \u001b[32m━━━━━━━━━━━━━━━━━━━━\u001b[0m\u001b[37m\u001b[0m \u001b[1m0s\u001b[0m 10ms/step - accuracy: 0.7471 - loss: 0.5248 - val_accuracy: 0.7406 - val_loss: 0.5152\n",
            "Epoch 129/260\n",
            "\u001b[1m20/20\u001b[0m \u001b[32m━━━━━━━━━━━━━━━━━━━━\u001b[0m\u001b[37m\u001b[0m \u001b[1m0s\u001b[0m 12ms/step - accuracy: 0.7538 - loss: 0.5161 - val_accuracy: 0.7375 - val_loss: 0.5177\n",
            "Epoch 130/260\n",
            "\u001b[1m20/20\u001b[0m \u001b[32m━━━━━━━━━━━━━━━━━━━━\u001b[0m\u001b[37m\u001b[0m \u001b[1m0s\u001b[0m 10ms/step - accuracy: 0.7574 - loss: 0.5066 - val_accuracy: 0.7344 - val_loss: 0.5156\n",
            "Epoch 131/260\n",
            "\u001b[1m20/20\u001b[0m \u001b[32m━━━━━━━━━━━━━━━━━━━━\u001b[0m\u001b[37m\u001b[0m \u001b[1m0s\u001b[0m 10ms/step - accuracy: 0.7502 - loss: 0.5148 - val_accuracy: 0.7375 - val_loss: 0.5153\n",
            "Epoch 132/260\n",
            "\u001b[1m20/20\u001b[0m \u001b[32m━━━━━━━━━━━━━━━━━━━━\u001b[0m\u001b[37m\u001b[0m \u001b[1m0s\u001b[0m 13ms/step - accuracy: 0.7510 - loss: 0.5093 - val_accuracy: 0.7406 - val_loss: 0.5148\n",
            "Epoch 133/260\n",
            "\u001b[1m20/20\u001b[0m \u001b[32m━━━━━━━━━━━━━━━━━━━━\u001b[0m\u001b[37m\u001b[0m \u001b[1m0s\u001b[0m 11ms/step - accuracy: 0.7558 - loss: 0.4981 - val_accuracy: 0.7344 - val_loss: 0.5156\n",
            "Epoch 134/260\n",
            "\u001b[1m20/20\u001b[0m \u001b[32m━━━━━━━━━━━━━━━━━━━━\u001b[0m\u001b[37m\u001b[0m \u001b[1m0s\u001b[0m 8ms/step - accuracy: 0.7576 - loss: 0.5104 - val_accuracy: 0.7344 - val_loss: 0.5158\n",
            "Epoch 135/260\n",
            "\u001b[1m20/20\u001b[0m \u001b[32m━━━━━━━━━━━━━━━━━━━━\u001b[0m\u001b[37m\u001b[0m \u001b[1m0s\u001b[0m 7ms/step - accuracy: 0.7695 - loss: 0.4897 - val_accuracy: 0.7375 - val_loss: 0.5176\n",
            "Epoch 136/260\n",
            "\u001b[1m20/20\u001b[0m \u001b[32m━━━━━━━━━━━━━━━━━━━━\u001b[0m\u001b[37m\u001b[0m \u001b[1m0s\u001b[0m 12ms/step - accuracy: 0.7503 - loss: 0.5236 - val_accuracy: 0.7344 - val_loss: 0.5151\n",
            "Epoch 137/260\n",
            "\u001b[1m20/20\u001b[0m \u001b[32m━━━━━━━━━━━━━━━━━━━━\u001b[0m\u001b[37m\u001b[0m \u001b[1m0s\u001b[0m 10ms/step - accuracy: 0.7487 - loss: 0.5082 - val_accuracy: 0.7312 - val_loss: 0.5150\n",
            "Epoch 138/260\n",
            "\u001b[1m20/20\u001b[0m \u001b[32m━━━━━━━━━━━━━━━━━━━━\u001b[0m\u001b[37m\u001b[0m \u001b[1m0s\u001b[0m 10ms/step - accuracy: 0.7579 - loss: 0.5135 - val_accuracy: 0.7344 - val_loss: 0.5163\n",
            "Epoch 139/260\n",
            "\u001b[1m20/20\u001b[0m \u001b[32m━━━━━━━━━━━━━━━━━━━━\u001b[0m\u001b[37m\u001b[0m \u001b[1m0s\u001b[0m 12ms/step - accuracy: 0.7451 - loss: 0.5216 - val_accuracy: 0.7344 - val_loss: 0.5155\n",
            "Epoch 140/260\n",
            "\u001b[1m20/20\u001b[0m \u001b[32m━━━━━━━━━━━━━━━━━━━━\u001b[0m\u001b[37m\u001b[0m \u001b[1m0s\u001b[0m 10ms/step - accuracy: 0.7517 - loss: 0.4972 - val_accuracy: 0.7469 - val_loss: 0.5179\n",
            "Epoch 141/260\n",
            "\u001b[1m20/20\u001b[0m \u001b[32m━━━━━━━━━━━━━━━━━━━━\u001b[0m\u001b[37m\u001b[0m \u001b[1m0s\u001b[0m 11ms/step - accuracy: 0.7664 - loss: 0.4971 - val_accuracy: 0.7344 - val_loss: 0.5153\n",
            "Epoch 142/260\n",
            "\u001b[1m20/20\u001b[0m \u001b[32m━━━━━━━━━━━━━━━━━━━━\u001b[0m\u001b[37m\u001b[0m \u001b[1m0s\u001b[0m 11ms/step - accuracy: 0.7488 - loss: 0.5048 - val_accuracy: 0.7344 - val_loss: 0.5150\n",
            "Epoch 143/260\n",
            "\u001b[1m20/20\u001b[0m \u001b[32m━━━━━━━━━━━━━━━━━━━━\u001b[0m\u001b[37m\u001b[0m \u001b[1m0s\u001b[0m 11ms/step - accuracy: 0.7419 - loss: 0.5117 - val_accuracy: 0.7344 - val_loss: 0.5154\n",
            "Epoch 144/260\n",
            "\u001b[1m20/20\u001b[0m \u001b[32m━━━━━━━━━━━━━━━━━━━━\u001b[0m\u001b[37m\u001b[0m \u001b[1m0s\u001b[0m 8ms/step - accuracy: 0.7699 - loss: 0.4910 - val_accuracy: 0.7344 - val_loss: 0.5158\n",
            "Epoch 145/260\n",
            "\u001b[1m20/20\u001b[0m \u001b[32m━━━━━━━━━━━━━━━━━━━━\u001b[0m\u001b[37m\u001b[0m \u001b[1m0s\u001b[0m 11ms/step - accuracy: 0.7577 - loss: 0.5042 - val_accuracy: 0.7344 - val_loss: 0.5161\n",
            "Epoch 146/260\n",
            "\u001b[1m20/20\u001b[0m \u001b[32m━━━━━━━━━━━━━━━━━━━━\u001b[0m\u001b[37m\u001b[0m \u001b[1m1s\u001b[0m 9ms/step - accuracy: 0.7406 - loss: 0.5114 - val_accuracy: 0.7375 - val_loss: 0.5140\n",
            "Epoch 147/260\n",
            "\u001b[1m20/20\u001b[0m \u001b[32m━━━━━━━━━━━━━━━━━━━━\u001b[0m\u001b[37m\u001b[0m \u001b[1m0s\u001b[0m 10ms/step - accuracy: 0.7461 - loss: 0.5164 - val_accuracy: 0.7437 - val_loss: 0.5137\n",
            "Epoch 148/260\n",
            "\u001b[1m20/20\u001b[0m \u001b[32m━━━━━━━━━━━━━━━━━━━━\u001b[0m\u001b[37m\u001b[0m \u001b[1m0s\u001b[0m 10ms/step - accuracy: 0.7359 - loss: 0.5257 - val_accuracy: 0.7312 - val_loss: 0.5140\n",
            "Epoch 149/260\n",
            "\u001b[1m20/20\u001b[0m \u001b[32m━━━━━━━━━━━━━━━━━━━━\u001b[0m\u001b[37m\u001b[0m \u001b[1m0s\u001b[0m 9ms/step - accuracy: 0.7654 - loss: 0.5081 - val_accuracy: 0.7344 - val_loss: 0.5147\n",
            "Epoch 150/260\n",
            "\u001b[1m20/20\u001b[0m \u001b[32m━━━━━━━━━━━━━━━━━━━━\u001b[0m\u001b[37m\u001b[0m \u001b[1m0s\u001b[0m 10ms/step - accuracy: 0.7567 - loss: 0.5053 - val_accuracy: 0.7344 - val_loss: 0.5153\n",
            "Epoch 151/260\n",
            "\u001b[1m20/20\u001b[0m \u001b[32m━━━━━━━━━━━━━━━━━━━━\u001b[0m\u001b[37m\u001b[0m \u001b[1m0s\u001b[0m 20ms/step - accuracy: 0.7578 - loss: 0.5033 - val_accuracy: 0.7406 - val_loss: 0.5135\n",
            "Epoch 152/260\n",
            "\u001b[1m20/20\u001b[0m \u001b[32m━━━━━━━━━━━━━━━━━━━━\u001b[0m\u001b[37m\u001b[0m \u001b[1m1s\u001b[0m 24ms/step - accuracy: 0.7452 - loss: 0.5229 - val_accuracy: 0.7437 - val_loss: 0.5164\n",
            "Epoch 153/260\n",
            "\u001b[1m20/20\u001b[0m \u001b[32m━━━━━━━━━━━━━━━━━━━━\u001b[0m\u001b[37m\u001b[0m \u001b[1m1s\u001b[0m 19ms/step - accuracy: 0.7714 - loss: 0.4857 - val_accuracy: 0.7344 - val_loss: 0.5141\n",
            "Epoch 154/260\n",
            "\u001b[1m20/20\u001b[0m \u001b[32m━━━━━━━━━━━━━━━━━━━━\u001b[0m\u001b[37m\u001b[0m \u001b[1m1s\u001b[0m 16ms/step - accuracy: 0.7570 - loss: 0.4972 - val_accuracy: 0.7375 - val_loss: 0.5151\n",
            "Epoch 155/260\n",
            "\u001b[1m20/20\u001b[0m \u001b[32m━━━━━━━━━━━━━━━━━━━━\u001b[0m\u001b[37m\u001b[0m \u001b[1m1s\u001b[0m 17ms/step - accuracy: 0.7727 - loss: 0.4834 - val_accuracy: 0.7312 - val_loss: 0.5138\n",
            "Epoch 156/260\n",
            "\u001b[1m20/20\u001b[0m \u001b[32m━━━━━━━━━━━━━━━━━━━━\u001b[0m\u001b[37m\u001b[0m \u001b[1m1s\u001b[0m 20ms/step - accuracy: 0.7645 - loss: 0.4913 - val_accuracy: 0.7312 - val_loss: 0.5140\n",
            "Epoch 157/260\n",
            "\u001b[1m20/20\u001b[0m \u001b[32m━━━━━━━━━━━━━━━━━━━━\u001b[0m\u001b[37m\u001b[0m \u001b[1m0s\u001b[0m 12ms/step - accuracy: 0.7473 - loss: 0.5185 - val_accuracy: 0.7375 - val_loss: 0.5151\n",
            "Epoch 158/260\n",
            "\u001b[1m20/20\u001b[0m \u001b[32m━━━━━━━━━━━━━━━━━━━━\u001b[0m\u001b[37m\u001b[0m \u001b[1m0s\u001b[0m 12ms/step - accuracy: 0.7378 - loss: 0.5221 - val_accuracy: 0.7312 - val_loss: 0.5137\n",
            "Epoch 159/260\n",
            "\u001b[1m20/20\u001b[0m \u001b[32m━━━━━━━━━━━━━━━━━━━━\u001b[0m\u001b[37m\u001b[0m \u001b[1m0s\u001b[0m 11ms/step - accuracy: 0.7756 - loss: 0.4866 - val_accuracy: 0.7281 - val_loss: 0.5134\n",
            "Epoch 160/260\n",
            "\u001b[1m20/20\u001b[0m \u001b[32m━━━━━━━━━━━━━━━━━━━━\u001b[0m\u001b[37m\u001b[0m \u001b[1m0s\u001b[0m 13ms/step - accuracy: 0.7560 - loss: 0.5068 - val_accuracy: 0.7312 - val_loss: 0.5133\n",
            "Epoch 161/260\n",
            "\u001b[1m20/20\u001b[0m \u001b[32m━━━━━━━━━━━━━━━━━━━━\u001b[0m\u001b[37m\u001b[0m \u001b[1m0s\u001b[0m 11ms/step - accuracy: 0.7640 - loss: 0.4990 - val_accuracy: 0.7406 - val_loss: 0.5129\n",
            "Epoch 162/260\n",
            "\u001b[1m20/20\u001b[0m \u001b[32m━━━━━━━━━━━━━━━━━━━━\u001b[0m\u001b[37m\u001b[0m \u001b[1m0s\u001b[0m 11ms/step - accuracy: 0.7602 - loss: 0.4893 - val_accuracy: 0.7312 - val_loss: 0.5130\n",
            "Epoch 163/260\n",
            "\u001b[1m20/20\u001b[0m \u001b[32m━━━━━━━━━━━━━━━━━━━━\u001b[0m\u001b[37m\u001b[0m \u001b[1m0s\u001b[0m 7ms/step - accuracy: 0.7577 - loss: 0.4987 - val_accuracy: 0.7312 - val_loss: 0.5134\n",
            "Epoch 164/260\n",
            "\u001b[1m20/20\u001b[0m \u001b[32m━━━━━━━━━━━━━━━━━━━━\u001b[0m\u001b[37m\u001b[0m \u001b[1m0s\u001b[0m 8ms/step - accuracy: 0.7482 - loss: 0.5181 - val_accuracy: 0.7375 - val_loss: 0.5142\n",
            "Epoch 165/260\n",
            "\u001b[1m20/20\u001b[0m \u001b[32m━━━━━━━━━━━━━━━━━━━━\u001b[0m\u001b[37m\u001b[0m \u001b[1m0s\u001b[0m 6ms/step - accuracy: 0.7769 - loss: 0.4798 - val_accuracy: 0.7344 - val_loss: 0.5127\n",
            "Epoch 166/260\n",
            "\u001b[1m20/20\u001b[0m \u001b[32m━━━━━━━━━━━━━━━━━━━━\u001b[0m\u001b[37m\u001b[0m \u001b[1m0s\u001b[0m 6ms/step - accuracy: 0.7556 - loss: 0.4992 - val_accuracy: 0.7344 - val_loss: 0.5126\n",
            "Epoch 167/260\n",
            "\u001b[1m20/20\u001b[0m \u001b[32m━━━━━━━━━━━━━━━━━━━━\u001b[0m\u001b[37m\u001b[0m \u001b[1m0s\u001b[0m 6ms/step - accuracy: 0.7614 - loss: 0.4955 - val_accuracy: 0.7344 - val_loss: 0.5132\n",
            "Epoch 168/260\n",
            "\u001b[1m20/20\u001b[0m \u001b[32m━━━━━━━━━━━━━━━━━━━━\u001b[0m\u001b[37m\u001b[0m \u001b[1m0s\u001b[0m 6ms/step - accuracy: 0.7806 - loss: 0.4831 - val_accuracy: 0.7406 - val_loss: 0.5157\n",
            "Epoch 169/260\n",
            "\u001b[1m20/20\u001b[0m \u001b[32m━━━━━━━━━━━━━━━━━━━━\u001b[0m\u001b[37m\u001b[0m \u001b[1m0s\u001b[0m 6ms/step - accuracy: 0.7629 - loss: 0.5042 - val_accuracy: 0.7344 - val_loss: 0.5126\n",
            "Epoch 170/260\n",
            "\u001b[1m20/20\u001b[0m \u001b[32m━━━━━━━━━━━━━━━━━━━━\u001b[0m\u001b[37m\u001b[0m \u001b[1m0s\u001b[0m 6ms/step - accuracy: 0.7532 - loss: 0.5055 - val_accuracy: 0.7344 - val_loss: 0.5132\n",
            "Epoch 171/260\n",
            "\u001b[1m20/20\u001b[0m \u001b[32m━━━━━━━━━━━━━━━━━━━━\u001b[0m\u001b[37m\u001b[0m \u001b[1m0s\u001b[0m 6ms/step - accuracy: 0.7584 - loss: 0.4940 - val_accuracy: 0.7375 - val_loss: 0.5136\n",
            "Epoch 172/260\n",
            "\u001b[1m20/20\u001b[0m \u001b[32m━━━━━━━━━━━━━━━━━━━━\u001b[0m\u001b[37m\u001b[0m \u001b[1m0s\u001b[0m 7ms/step - accuracy: 0.7501 - loss: 0.5180 - val_accuracy: 0.7406 - val_loss: 0.5120\n",
            "Epoch 173/260\n",
            "\u001b[1m20/20\u001b[0m \u001b[32m━━━━━━━━━━━━━━━━━━━━\u001b[0m\u001b[37m\u001b[0m \u001b[1m0s\u001b[0m 7ms/step - accuracy: 0.7597 - loss: 0.4994 - val_accuracy: 0.7375 - val_loss: 0.5127\n",
            "Epoch 174/260\n",
            "\u001b[1m20/20\u001b[0m \u001b[32m━━━━━━━━━━━━━━━━━━━━\u001b[0m\u001b[37m\u001b[0m \u001b[1m0s\u001b[0m 6ms/step - accuracy: 0.7672 - loss: 0.4845 - val_accuracy: 0.7406 - val_loss: 0.5120\n",
            "Epoch 175/260\n",
            "\u001b[1m20/20\u001b[0m \u001b[32m━━━━━━━━━━━━━━━━━━━━\u001b[0m\u001b[37m\u001b[0m \u001b[1m0s\u001b[0m 6ms/step - accuracy: 0.7569 - loss: 0.5022 - val_accuracy: 0.7344 - val_loss: 0.5123\n",
            "Epoch 176/260\n",
            "\u001b[1m20/20\u001b[0m \u001b[32m━━━━━━━━━━━━━━━━━━━━\u001b[0m\u001b[37m\u001b[0m \u001b[1m0s\u001b[0m 6ms/step - accuracy: 0.7547 - loss: 0.5106 - val_accuracy: 0.7344 - val_loss: 0.5128\n",
            "Epoch 177/260\n",
            "\u001b[1m20/20\u001b[0m \u001b[32m━━━━━━━━━━━━━━━━━━━━\u001b[0m\u001b[37m\u001b[0m \u001b[1m0s\u001b[0m 7ms/step - accuracy: 0.7622 - loss: 0.5036 - val_accuracy: 0.7375 - val_loss: 0.5126\n",
            "Epoch 178/260\n",
            "\u001b[1m20/20\u001b[0m \u001b[32m━━━━━━━━━━━━━━━━━━━━\u001b[0m\u001b[37m\u001b[0m \u001b[1m0s\u001b[0m 8ms/step - accuracy: 0.7699 - loss: 0.4853 - val_accuracy: 0.7406 - val_loss: 0.5119\n",
            "Epoch 179/260\n",
            "\u001b[1m20/20\u001b[0m \u001b[32m━━━━━━━━━━━━━━━━━━━━\u001b[0m\u001b[37m\u001b[0m \u001b[1m0s\u001b[0m 8ms/step - accuracy: 0.7580 - loss: 0.5013 - val_accuracy: 0.7375 - val_loss: 0.5120\n",
            "Epoch 180/260\n",
            "\u001b[1m20/20\u001b[0m \u001b[32m━━━━━━━━━━━━━━━━━━━━\u001b[0m\u001b[37m\u001b[0m \u001b[1m0s\u001b[0m 8ms/step - accuracy: 0.7734 - loss: 0.4916 - val_accuracy: 0.7375 - val_loss: 0.5122\n",
            "Epoch 181/260\n",
            "\u001b[1m20/20\u001b[0m \u001b[32m━━━━━━━━━━━━━━━━━━━━\u001b[0m\u001b[37m\u001b[0m \u001b[1m0s\u001b[0m 7ms/step - accuracy: 0.7663 - loss: 0.4950 - val_accuracy: 0.7375 - val_loss: 0.5119\n",
            "Epoch 182/260\n",
            "\u001b[1m20/20\u001b[0m \u001b[32m━━━━━━━━━━━━━━━━━━━━\u001b[0m\u001b[37m\u001b[0m \u001b[1m0s\u001b[0m 8ms/step - accuracy: 0.7684 - loss: 0.4889 - val_accuracy: 0.7469 - val_loss: 0.5113\n",
            "Epoch 183/260\n",
            "\u001b[1m20/20\u001b[0m \u001b[32m━━━━━━━━━━━━━━━━━━━━\u001b[0m\u001b[37m\u001b[0m \u001b[1m0s\u001b[0m 8ms/step - accuracy: 0.7660 - loss: 0.4926 - val_accuracy: 0.7375 - val_loss: 0.5122\n",
            "Epoch 184/260\n",
            "\u001b[1m20/20\u001b[0m \u001b[32m━━━━━━━━━━━━━━━━━━━━\u001b[0m\u001b[37m\u001b[0m \u001b[1m0s\u001b[0m 7ms/step - accuracy: 0.7445 - loss: 0.5050 - val_accuracy: 0.7375 - val_loss: 0.5134\n",
            "Epoch 185/260\n",
            "\u001b[1m20/20\u001b[0m \u001b[32m━━━━━━━━━━━━━━━━━━━━\u001b[0m\u001b[37m\u001b[0m \u001b[1m0s\u001b[0m 7ms/step - accuracy: 0.7665 - loss: 0.4859 - val_accuracy: 0.7406 - val_loss: 0.5110\n",
            "Epoch 186/260\n",
            "\u001b[1m20/20\u001b[0m \u001b[32m━━━━━━━━━━━━━━━━━━━━\u001b[0m\u001b[37m\u001b[0m \u001b[1m0s\u001b[0m 7ms/step - accuracy: 0.7536 - loss: 0.5005 - val_accuracy: 0.7344 - val_loss: 0.5124\n",
            "Epoch 187/260\n",
            "\u001b[1m20/20\u001b[0m \u001b[32m━━━━━━━━━━━━━━━━━━━━\u001b[0m\u001b[37m\u001b[0m \u001b[1m0s\u001b[0m 9ms/step - accuracy: 0.7807 - loss: 0.4782 - val_accuracy: 0.7344 - val_loss: 0.5115\n",
            "Epoch 188/260\n",
            "\u001b[1m20/20\u001b[0m \u001b[32m━━━━━━━━━━━━━━━━━━━━\u001b[0m\u001b[37m\u001b[0m \u001b[1m0s\u001b[0m 7ms/step - accuracy: 0.7496 - loss: 0.5138 - val_accuracy: 0.7375 - val_loss: 0.5118\n",
            "Epoch 189/260\n",
            "\u001b[1m20/20\u001b[0m \u001b[32m━━━━━━━━━━━━━━━━━━━━\u001b[0m\u001b[37m\u001b[0m \u001b[1m0s\u001b[0m 7ms/step - accuracy: 0.7511 - loss: 0.5034 - val_accuracy: 0.7437 - val_loss: 0.5109\n",
            "Epoch 190/260\n",
            "\u001b[1m20/20\u001b[0m \u001b[32m━━━━━━━━━━━━━━━━━━━━\u001b[0m\u001b[37m\u001b[0m \u001b[1m0s\u001b[0m 7ms/step - accuracy: 0.7355 - loss: 0.5346 - val_accuracy: 0.7437 - val_loss: 0.5108\n",
            "Epoch 191/260\n",
            "\u001b[1m20/20\u001b[0m \u001b[32m━━━━━━━━━━━━━━━━━━━━\u001b[0m\u001b[37m\u001b[0m \u001b[1m0s\u001b[0m 7ms/step - accuracy: 0.7669 - loss: 0.4924 - val_accuracy: 0.7375 - val_loss: 0.5120\n",
            "Epoch 192/260\n",
            "\u001b[1m20/20\u001b[0m \u001b[32m━━━━━━━━━━━━━━━━━━━━\u001b[0m\u001b[37m\u001b[0m \u001b[1m0s\u001b[0m 8ms/step - accuracy: 0.7671 - loss: 0.4916 - val_accuracy: 0.7344 - val_loss: 0.5114\n",
            "Epoch 193/260\n",
            "\u001b[1m20/20\u001b[0m \u001b[32m━━━━━━━━━━━━━━━━━━━━\u001b[0m\u001b[37m\u001b[0m \u001b[1m0s\u001b[0m 11ms/step - accuracy: 0.7426 - loss: 0.5174 - val_accuracy: 0.7312 - val_loss: 0.5124\n",
            "Epoch 194/260\n",
            "\u001b[1m20/20\u001b[0m \u001b[32m━━━━━━━━━━━━━━━━━━━━\u001b[0m\u001b[37m\u001b[0m \u001b[1m0s\u001b[0m 10ms/step - accuracy: 0.7441 - loss: 0.5165 - val_accuracy: 0.7375 - val_loss: 0.5110\n",
            "Epoch 195/260\n",
            "\u001b[1m20/20\u001b[0m \u001b[32m━━━━━━━━━━━━━━━━━━━━\u001b[0m\u001b[37m\u001b[0m \u001b[1m0s\u001b[0m 12ms/step - accuracy: 0.7704 - loss: 0.4900 - val_accuracy: 0.7437 - val_loss: 0.5107\n",
            "Epoch 196/260\n",
            "\u001b[1m20/20\u001b[0m \u001b[32m━━━━━━━━━━━━━━━━━━━━\u001b[0m\u001b[37m\u001b[0m \u001b[1m0s\u001b[0m 10ms/step - accuracy: 0.7370 - loss: 0.5201 - val_accuracy: 0.7531 - val_loss: 0.5105\n",
            "Epoch 197/260\n",
            "\u001b[1m20/20\u001b[0m \u001b[32m━━━━━━━━━━━━━━━━━━━━\u001b[0m\u001b[37m\u001b[0m \u001b[1m0s\u001b[0m 11ms/step - accuracy: 0.7693 - loss: 0.4944 - val_accuracy: 0.7375 - val_loss: 0.5107\n",
            "Epoch 198/260\n",
            "\u001b[1m20/20\u001b[0m \u001b[32m━━━━━━━━━━━━━━━━━━━━\u001b[0m\u001b[37m\u001b[0m \u001b[1m0s\u001b[0m 11ms/step - accuracy: 0.7618 - loss: 0.4910 - val_accuracy: 0.7375 - val_loss: 0.5109\n",
            "Epoch 199/260\n",
            "\u001b[1m20/20\u001b[0m \u001b[32m━━━━━━━━━━━━━━━━━━━━\u001b[0m\u001b[37m\u001b[0m \u001b[1m0s\u001b[0m 10ms/step - accuracy: 0.7722 - loss: 0.4917 - val_accuracy: 0.7344 - val_loss: 0.5134\n",
            "Epoch 200/260\n",
            "\u001b[1m20/20\u001b[0m \u001b[32m━━━━━━━━━━━━━━━━━━━━\u001b[0m\u001b[37m\u001b[0m \u001b[1m0s\u001b[0m 12ms/step - accuracy: 0.7581 - loss: 0.4792 - val_accuracy: 0.7375 - val_loss: 0.5106\n",
            "Epoch 201/260\n",
            "\u001b[1m20/20\u001b[0m \u001b[32m━━━━━━━━━━━━━━━━━━━━\u001b[0m\u001b[37m\u001b[0m \u001b[1m0s\u001b[0m 11ms/step - accuracy: 0.7596 - loss: 0.4849 - val_accuracy: 0.7406 - val_loss: 0.5104\n",
            "Epoch 202/260\n",
            "\u001b[1m20/20\u001b[0m \u001b[32m━━━━━━━━━━━━━━━━━━━━\u001b[0m\u001b[37m\u001b[0m \u001b[1m0s\u001b[0m 9ms/step - accuracy: 0.7458 - loss: 0.5233 - val_accuracy: 0.7375 - val_loss: 0.5110\n",
            "Epoch 203/260\n",
            "\u001b[1m20/20\u001b[0m \u001b[32m━━━━━━━━━━━━━━━━━━━━\u001b[0m\u001b[37m\u001b[0m \u001b[1m0s\u001b[0m 6ms/step - accuracy: 0.7678 - loss: 0.4827 - val_accuracy: 0.7375 - val_loss: 0.5108\n",
            "Epoch 204/260\n",
            "\u001b[1m20/20\u001b[0m \u001b[32m━━━━━━━━━━━━━━━━━━━━\u001b[0m\u001b[37m\u001b[0m \u001b[1m0s\u001b[0m 10ms/step - accuracy: 0.7677 - loss: 0.4902 - val_accuracy: 0.7406 - val_loss: 0.5104\n",
            "Epoch 205/260\n",
            "\u001b[1m20/20\u001b[0m \u001b[32m━━━━━━━━━━━━━━━━━━━━\u001b[0m\u001b[37m\u001b[0m \u001b[1m0s\u001b[0m 9ms/step - accuracy: 0.7535 - loss: 0.5178 - val_accuracy: 0.7344 - val_loss: 0.5111\n",
            "Epoch 206/260\n",
            "\u001b[1m20/20\u001b[0m \u001b[32m━━━━━━━━━━━━━━━━━━━━\u001b[0m\u001b[37m\u001b[0m \u001b[1m0s\u001b[0m 11ms/step - accuracy: 0.7854 - loss: 0.4775 - val_accuracy: 0.7344 - val_loss: 0.5112\n",
            "Epoch 207/260\n",
            "\u001b[1m20/20\u001b[0m \u001b[32m━━━━━━━━━━━━━━━━━━━━\u001b[0m\u001b[37m\u001b[0m \u001b[1m0s\u001b[0m 6ms/step - accuracy: 0.7793 - loss: 0.4758 - val_accuracy: 0.7469 - val_loss: 0.5099\n",
            "Epoch 208/260\n",
            "\u001b[1m20/20\u001b[0m \u001b[32m━━━━━━━━━━━━━━━━━━━━\u001b[0m\u001b[37m\u001b[0m \u001b[1m0s\u001b[0m 8ms/step - accuracy: 0.7567 - loss: 0.4899 - val_accuracy: 0.7531 - val_loss: 0.5099\n",
            "Epoch 209/260\n",
            "\u001b[1m20/20\u001b[0m \u001b[32m━━━━━━━━━━━━━━━━━━━━\u001b[0m\u001b[37m\u001b[0m \u001b[1m0s\u001b[0m 8ms/step - accuracy: 0.7378 - loss: 0.5167 - val_accuracy: 0.7375 - val_loss: 0.5100\n",
            "Epoch 210/260\n",
            "\u001b[1m20/20\u001b[0m \u001b[32m━━━━━━━━━━━━━━━━━━━━\u001b[0m\u001b[37m\u001b[0m \u001b[1m0s\u001b[0m 6ms/step - accuracy: 0.7622 - loss: 0.4896 - val_accuracy: 0.7469 - val_loss: 0.5099\n",
            "Epoch 211/260\n",
            "\u001b[1m20/20\u001b[0m \u001b[32m━━━━━━━━━━━━━━━━━━━━\u001b[0m\u001b[37m\u001b[0m \u001b[1m0s\u001b[0m 8ms/step - accuracy: 0.7482 - loss: 0.5119 - val_accuracy: 0.7375 - val_loss: 0.5099\n",
            "Epoch 212/260\n",
            "\u001b[1m20/20\u001b[0m \u001b[32m━━━━━━━━━━━━━━━━━━━━\u001b[0m\u001b[37m\u001b[0m \u001b[1m0s\u001b[0m 6ms/step - accuracy: 0.7429 - loss: 0.5188 - val_accuracy: 0.7406 - val_loss: 0.5098\n",
            "Epoch 213/260\n",
            "\u001b[1m20/20\u001b[0m \u001b[32m━━━━━━━━━━━━━━━━━━━━\u001b[0m\u001b[37m\u001b[0m \u001b[1m0s\u001b[0m 6ms/step - accuracy: 0.7536 - loss: 0.4987 - val_accuracy: 0.7531 - val_loss: 0.5096\n",
            "Epoch 214/260\n",
            "\u001b[1m20/20\u001b[0m \u001b[32m━━━━━━━━━━━━━━━━━━━━\u001b[0m\u001b[37m\u001b[0m \u001b[1m0s\u001b[0m 7ms/step - accuracy: 0.7519 - loss: 0.5008 - val_accuracy: 0.7563 - val_loss: 0.5095\n",
            "Epoch 215/260\n",
            "\u001b[1m20/20\u001b[0m \u001b[32m━━━━━━━━━━━━━━━━━━━━\u001b[0m\u001b[37m\u001b[0m \u001b[1m0s\u001b[0m 8ms/step - accuracy: 0.7608 - loss: 0.5046 - val_accuracy: 0.7563 - val_loss: 0.5094\n",
            "Epoch 216/260\n",
            "\u001b[1m20/20\u001b[0m \u001b[32m━━━━━━━━━━━━━━━━━━━━\u001b[0m\u001b[37m\u001b[0m \u001b[1m0s\u001b[0m 8ms/step - accuracy: 0.7601 - loss: 0.5000 - val_accuracy: 0.7344 - val_loss: 0.5108\n",
            "Epoch 217/260\n",
            "\u001b[1m20/20\u001b[0m \u001b[32m━━━━━━━━━━━━━━━━━━━━\u001b[0m\u001b[37m\u001b[0m \u001b[1m0s\u001b[0m 7ms/step - accuracy: 0.7592 - loss: 0.4963 - val_accuracy: 0.7375 - val_loss: 0.5101\n",
            "Epoch 218/260\n",
            "\u001b[1m20/20\u001b[0m \u001b[32m━━━━━━━━━━━━━━━━━━━━\u001b[0m\u001b[37m\u001b[0m \u001b[1m0s\u001b[0m 6ms/step - accuracy: 0.7499 - loss: 0.5057 - val_accuracy: 0.7375 - val_loss: 0.5099\n",
            "Epoch 219/260\n",
            "\u001b[1m20/20\u001b[0m \u001b[32m━━━━━━━━━━━━━━━━━━━━\u001b[0m\u001b[37m\u001b[0m \u001b[1m0s\u001b[0m 6ms/step - accuracy: 0.7691 - loss: 0.4878 - val_accuracy: 0.7375 - val_loss: 0.5096\n",
            "Epoch 220/260\n",
            "\u001b[1m20/20\u001b[0m \u001b[32m━━━━━━━━━━━━━━━━━━━━\u001b[0m\u001b[37m\u001b[0m \u001b[1m0s\u001b[0m 8ms/step - accuracy: 0.7572 - loss: 0.4979 - val_accuracy: 0.7344 - val_loss: 0.5116\n",
            "Epoch 221/260\n",
            "\u001b[1m20/20\u001b[0m \u001b[32m━━━━━━━━━━━━━━━━━━━━\u001b[0m\u001b[37m\u001b[0m \u001b[1m0s\u001b[0m 6ms/step - accuracy: 0.7834 - loss: 0.4790 - val_accuracy: 0.7375 - val_loss: 0.5094\n",
            "Epoch 222/260\n",
            "\u001b[1m20/20\u001b[0m \u001b[32m━━━━━━━━━━━━━━━━━━━━\u001b[0m\u001b[37m\u001b[0m \u001b[1m0s\u001b[0m 6ms/step - accuracy: 0.7535 - loss: 0.5087 - val_accuracy: 0.7375 - val_loss: 0.5101\n",
            "Epoch 223/260\n",
            "\u001b[1m20/20\u001b[0m \u001b[32m━━━━━━━━━━━━━━━━━━━━\u001b[0m\u001b[37m\u001b[0m \u001b[1m0s\u001b[0m 6ms/step - accuracy: 0.7641 - loss: 0.4848 - val_accuracy: 0.7437 - val_loss: 0.5090\n",
            "Epoch 224/260\n",
            "\u001b[1m20/20\u001b[0m \u001b[32m━━━━━━━━━━━━━━━━━━━━\u001b[0m\u001b[37m\u001b[0m \u001b[1m0s\u001b[0m 6ms/step - accuracy: 0.7489 - loss: 0.5085 - val_accuracy: 0.7531 - val_loss: 0.5089\n",
            "Epoch 225/260\n",
            "\u001b[1m20/20\u001b[0m \u001b[32m━━━━━━━━━━━━━━━━━━━━\u001b[0m\u001b[37m\u001b[0m \u001b[1m0s\u001b[0m 7ms/step - accuracy: 0.7625 - loss: 0.5021 - val_accuracy: 0.7375 - val_loss: 0.5093\n",
            "Epoch 226/260\n",
            "\u001b[1m20/20\u001b[0m \u001b[32m━━━━━━━━━━━━━━━━━━━━\u001b[0m\u001b[37m\u001b[0m \u001b[1m0s\u001b[0m 6ms/step - accuracy: 0.7746 - loss: 0.4772 - val_accuracy: 0.7437 - val_loss: 0.5100\n",
            "Epoch 227/260\n",
            "\u001b[1m20/20\u001b[0m \u001b[32m━━━━━━━━━━━━━━━━━━━━\u001b[0m\u001b[37m\u001b[0m \u001b[1m0s\u001b[0m 6ms/step - accuracy: 0.7623 - loss: 0.5042 - val_accuracy: 0.7594 - val_loss: 0.5085\n",
            "Epoch 228/260\n",
            "\u001b[1m20/20\u001b[0m \u001b[32m━━━━━━━━━━━━━━━━━━━━\u001b[0m\u001b[37m\u001b[0m \u001b[1m0s\u001b[0m 8ms/step - accuracy: 0.7776 - loss: 0.4982 - val_accuracy: 0.7406 - val_loss: 0.5102\n",
            "Epoch 229/260\n",
            "\u001b[1m20/20\u001b[0m \u001b[32m━━━━━━━━━━━━━━━━━━━━\u001b[0m\u001b[37m\u001b[0m \u001b[1m0s\u001b[0m 6ms/step - accuracy: 0.7635 - loss: 0.4918 - val_accuracy: 0.7375 - val_loss: 0.5096\n",
            "Epoch 230/260\n",
            "\u001b[1m20/20\u001b[0m \u001b[32m━━━━━━━━━━━━━━━━━━━━\u001b[0m\u001b[37m\u001b[0m \u001b[1m0s\u001b[0m 6ms/step - accuracy: 0.7495 - loss: 0.5061 - val_accuracy: 0.7500 - val_loss: 0.5085\n",
            "Epoch 231/260\n",
            "\u001b[1m20/20\u001b[0m \u001b[32m━━━━━━━━━━━━━━━━━━━━\u001b[0m\u001b[37m\u001b[0m \u001b[1m0s\u001b[0m 6ms/step - accuracy: 0.7708 - loss: 0.4826 - val_accuracy: 0.7500 - val_loss: 0.5083\n",
            "Epoch 232/260\n",
            "\u001b[1m20/20\u001b[0m \u001b[32m━━━━━━━━━━━━━━━━━━━━\u001b[0m\u001b[37m\u001b[0m \u001b[1m0s\u001b[0m 7ms/step - accuracy: 0.7654 - loss: 0.5115 - val_accuracy: 0.7531 - val_loss: 0.5084\n",
            "Epoch 233/260\n",
            "\u001b[1m20/20\u001b[0m \u001b[32m━━━━━━━━━━━━━━━━━━━━\u001b[0m\u001b[37m\u001b[0m \u001b[1m0s\u001b[0m 9ms/step - accuracy: 0.7702 - loss: 0.4949 - val_accuracy: 0.7406 - val_loss: 0.5093\n",
            "Epoch 234/260\n",
            "\u001b[1m20/20\u001b[0m \u001b[32m━━━━━━━━━━━━━━━━━━━━\u001b[0m\u001b[37m\u001b[0m \u001b[1m0s\u001b[0m 6ms/step - accuracy: 0.7840 - loss: 0.4743 - val_accuracy: 0.7375 - val_loss: 0.5092\n",
            "Epoch 235/260\n",
            "\u001b[1m20/20\u001b[0m \u001b[32m━━━━━━━━━━━━━━━━━━━━\u001b[0m\u001b[37m\u001b[0m \u001b[1m0s\u001b[0m 7ms/step - accuracy: 0.7558 - loss: 0.5083 - val_accuracy: 0.7437 - val_loss: 0.5086\n",
            "Epoch 236/260\n",
            "\u001b[1m20/20\u001b[0m \u001b[32m━━━━━━━━━━━━━━━━━━━━\u001b[0m\u001b[37m\u001b[0m \u001b[1m0s\u001b[0m 6ms/step - accuracy: 0.7754 - loss: 0.4886 - val_accuracy: 0.7500 - val_loss: 0.5081\n",
            "Epoch 237/260\n",
            "\u001b[1m20/20\u001b[0m \u001b[32m━━━━━━━━━━━━━━━━━━━━\u001b[0m\u001b[37m\u001b[0m \u001b[1m0s\u001b[0m 6ms/step - accuracy: 0.7548 - loss: 0.5096 - val_accuracy: 0.7500 - val_loss: 0.5080\n",
            "Epoch 238/260\n",
            "\u001b[1m20/20\u001b[0m \u001b[32m━━━━━━━━━━━━━━━━━━━━\u001b[0m\u001b[37m\u001b[0m \u001b[1m0s\u001b[0m 6ms/step - accuracy: 0.7519 - loss: 0.5138 - val_accuracy: 0.7500 - val_loss: 0.5081\n",
            "Epoch 239/260\n",
            "\u001b[1m20/20\u001b[0m \u001b[32m━━━━━━━━━━━━━━━━━━━━\u001b[0m\u001b[37m\u001b[0m \u001b[1m0s\u001b[0m 6ms/step - accuracy: 0.7559 - loss: 0.5097 - val_accuracy: 0.7469 - val_loss: 0.5081\n",
            "Epoch 240/260\n",
            "\u001b[1m20/20\u001b[0m \u001b[32m━━━━━━━━━━━━━━━━━━━━\u001b[0m\u001b[37m\u001b[0m \u001b[1m0s\u001b[0m 6ms/step - accuracy: 0.7620 - loss: 0.4964 - val_accuracy: 0.7375 - val_loss: 0.5085\n",
            "Epoch 241/260\n",
            "\u001b[1m20/20\u001b[0m \u001b[32m━━━━━━━━━━━━━━━━━━━━\u001b[0m\u001b[37m\u001b[0m \u001b[1m0s\u001b[0m 8ms/step - accuracy: 0.7651 - loss: 0.4979 - val_accuracy: 0.7469 - val_loss: 0.5081\n",
            "Epoch 242/260\n",
            "\u001b[1m20/20\u001b[0m \u001b[32m━━━━━━━━━━━━━━━━━━━━\u001b[0m\u001b[37m\u001b[0m \u001b[1m0s\u001b[0m 6ms/step - accuracy: 0.7533 - loss: 0.5053 - val_accuracy: 0.7469 - val_loss: 0.5080\n",
            "Epoch 243/260\n",
            "\u001b[1m20/20\u001b[0m \u001b[32m━━━━━━━━━━━━━━━━━━━━\u001b[0m\u001b[37m\u001b[0m \u001b[1m0s\u001b[0m 6ms/step - accuracy: 0.7766 - loss: 0.4752 - val_accuracy: 0.7437 - val_loss: 0.5083\n",
            "Epoch 244/260\n",
            "\u001b[1m20/20\u001b[0m \u001b[32m━━━━━━━━━━━━━━━━━━━━\u001b[0m\u001b[37m\u001b[0m \u001b[1m0s\u001b[0m 12ms/step - accuracy: 0.7563 - loss: 0.4971 - val_accuracy: 0.7563 - val_loss: 0.5076\n",
            "Epoch 245/260\n",
            "\u001b[1m20/20\u001b[0m \u001b[32m━━━━━━━━━━━━━━━━━━━━\u001b[0m\u001b[37m\u001b[0m \u001b[1m0s\u001b[0m 11ms/step - accuracy: 0.7731 - loss: 0.5023 - val_accuracy: 0.7531 - val_loss: 0.5074\n",
            "Epoch 246/260\n",
            "\u001b[1m20/20\u001b[0m \u001b[32m━━━━━━━━━━━━━━━━━━━━\u001b[0m\u001b[37m\u001b[0m \u001b[1m0s\u001b[0m 9ms/step - accuracy: 0.7668 - loss: 0.4896 - val_accuracy: 0.7437 - val_loss: 0.5081\n",
            "Epoch 247/260\n",
            "\u001b[1m20/20\u001b[0m \u001b[32m━━━━━━━━━━━━━━━━━━━━\u001b[0m\u001b[37m\u001b[0m \u001b[1m0s\u001b[0m 11ms/step - accuracy: 0.7783 - loss: 0.4818 - val_accuracy: 0.7531 - val_loss: 0.5074\n",
            "Epoch 248/260\n",
            "\u001b[1m20/20\u001b[0m \u001b[32m━━━━━━━━━━━━━━━━━━━━\u001b[0m\u001b[37m\u001b[0m \u001b[1m0s\u001b[0m 11ms/step - accuracy: 0.7664 - loss: 0.4834 - val_accuracy: 0.7469 - val_loss: 0.5072\n",
            "Epoch 249/260\n",
            "\u001b[1m20/20\u001b[0m \u001b[32m━━━━━━━━━━━━━━━━━━━━\u001b[0m\u001b[37m\u001b[0m \u001b[1m0s\u001b[0m 12ms/step - accuracy: 0.7711 - loss: 0.4821 - val_accuracy: 0.7437 - val_loss: 0.5074\n",
            "Epoch 250/260\n",
            "\u001b[1m20/20\u001b[0m \u001b[32m━━━━━━━━━━━━━━━━━━━━\u001b[0m\u001b[37m\u001b[0m \u001b[1m0s\u001b[0m 11ms/step - accuracy: 0.7628 - loss: 0.4837 - val_accuracy: 0.7375 - val_loss: 0.5096\n",
            "Epoch 251/260\n",
            "\u001b[1m20/20\u001b[0m \u001b[32m━━━━━━━━━━━━━━━━━━━━\u001b[0m\u001b[37m\u001b[0m \u001b[1m0s\u001b[0m 11ms/step - accuracy: 0.7742 - loss: 0.4770 - val_accuracy: 0.7437 - val_loss: 0.5081\n",
            "Epoch 252/260\n",
            "\u001b[1m20/20\u001b[0m \u001b[32m━━━━━━━━━━━━━━━━━━━━\u001b[0m\u001b[37m\u001b[0m \u001b[1m0s\u001b[0m 11ms/step - accuracy: 0.7677 - loss: 0.5015 - val_accuracy: 0.7437 - val_loss: 0.5083\n",
            "Epoch 253/260\n",
            "\u001b[1m20/20\u001b[0m \u001b[32m━━━━━━━━━━━━━━━━━━━━\u001b[0m\u001b[37m\u001b[0m \u001b[1m0s\u001b[0m 6ms/step - accuracy: 0.7673 - loss: 0.4913 - val_accuracy: 0.7406 - val_loss: 0.5080\n",
            "Epoch 254/260\n",
            "\u001b[1m20/20\u001b[0m \u001b[32m━━━━━━━━━━━━━━━━━━━━\u001b[0m\u001b[37m\u001b[0m \u001b[1m0s\u001b[0m 7ms/step - accuracy: 0.7680 - loss: 0.4951 - val_accuracy: 0.7437 - val_loss: 0.5075\n",
            "Epoch 255/260\n",
            "\u001b[1m20/20\u001b[0m \u001b[32m━━━━━━━━━━━━━━━━━━━━\u001b[0m\u001b[37m\u001b[0m \u001b[1m0s\u001b[0m 7ms/step - accuracy: 0.7641 - loss: 0.4962 - val_accuracy: 0.7437 - val_loss: 0.5084\n",
            "Epoch 256/260\n",
            "\u001b[1m20/20\u001b[0m \u001b[32m━━━━━━━━━━━━━━━━━━━━\u001b[0m\u001b[37m\u001b[0m \u001b[1m0s\u001b[0m 8ms/step - accuracy: 0.7692 - loss: 0.4879 - val_accuracy: 0.7500 - val_loss: 0.5070\n",
            "Epoch 257/260\n",
            "\u001b[1m20/20\u001b[0m \u001b[32m━━━━━━━━━━━━━━━━━━━━\u001b[0m\u001b[37m\u001b[0m \u001b[1m0s\u001b[0m 7ms/step - accuracy: 0.7699 - loss: 0.4929 - val_accuracy: 0.7469 - val_loss: 0.5077\n",
            "Epoch 258/260\n",
            "\u001b[1m20/20\u001b[0m \u001b[32m━━━━━━━━━━━━━━━━━━━━\u001b[0m\u001b[37m\u001b[0m \u001b[1m0s\u001b[0m 7ms/step - accuracy: 0.7808 - loss: 0.4784 - val_accuracy: 0.7500 - val_loss: 0.5073\n",
            "Epoch 259/260\n",
            "\u001b[1m20/20\u001b[0m \u001b[32m━━━━━━━━━━━━━━━━━━━━\u001b[0m\u001b[37m\u001b[0m \u001b[1m0s\u001b[0m 6ms/step - accuracy: 0.7625 - loss: 0.4938 - val_accuracy: 0.7500 - val_loss: 0.5068\n",
            "Epoch 260/260\n",
            "\u001b[1m20/20\u001b[0m \u001b[32m━━━━━━━━━━━━━━━━━━━━\u001b[0m\u001b[37m\u001b[0m \u001b[1m0s\u001b[0m 9ms/step - accuracy: 0.7563 - loss: 0.5053 - val_accuracy: 0.7437 - val_loss: 0.5074\n"
          ]
        }
      ]
    },
    {
      "cell_type": "code",
      "source": [
        "# Save trained model\n",
        "model.save(\"wine_quality_model.h5\")"
      ],
      "metadata": {
        "colab": {
          "base_uri": "https://localhost:8080/"
        },
        "id": "ve0iLg0EJ7lL",
        "outputId": "a5a247d7-4edd-41a4-aa2b-1d7b5d26a875"
      },
      "execution_count": 12,
      "outputs": [
        {
          "output_type": "stream",
          "name": "stderr",
          "text": [
            "WARNING:absl:You are saving your model as an HDF5 file via `model.save()` or `keras.saving.save_model(model)`. This file format is considered legacy. We recommend using instead the native Keras format, e.g. `model.save('my_model.keras')` or `keras.saving.save_model(model, 'my_model.keras')`. \n"
          ]
        }
      ]
    },
    {
      "cell_type": "code",
      "source": [
        "# Load model for deployment\n",
        "loaded_model = keras.models.load_model(\"wine_quality_model.h5\")"
      ],
      "metadata": {
        "colab": {
          "base_uri": "https://localhost:8080/"
        },
        "id": "8djHnF4EKAOC",
        "outputId": "63027d7a-a046-464f-dbf8-986b7190ccf2"
      },
      "execution_count": 13,
      "outputs": [
        {
          "output_type": "stream",
          "name": "stderr",
          "text": [
            "WARNING:absl:Compiled the loaded model, but the compiled metrics have yet to be built. `model.compile_metrics` will be empty until you train or evaluate the model.\n"
          ]
        }
      ]
    },
    {
      "cell_type": "code",
      "source": [
        "# Evaluate model\n",
        "loss, accuracy = loaded_model.evaluate(X_test, y_test)\n",
        "print(f\"Test Accuracy: {accuracy:.4f}\")"
      ],
      "metadata": {
        "colab": {
          "base_uri": "https://localhost:8080/"
        },
        "id": "xEmVwp5XKENi",
        "outputId": "f3584ab6-5ea7-4f84-9e6b-2e0ef88971d0"
      },
      "execution_count": 14,
      "outputs": [
        {
          "output_type": "stream",
          "name": "stdout",
          "text": [
            "\u001b[1m10/10\u001b[0m \u001b[32m━━━━━━━━━━━━━━━━━━━━\u001b[0m\u001b[37m\u001b[0m \u001b[1m0s\u001b[0m 4ms/step - accuracy: 0.7338 - loss: 0.5045  \n",
            "Test Accuracy: 0.7469\n"
          ]
        }
      ]
    },
    {
      "cell_type": "code",
      "source": [
        "# Predictions\n",
        "y_pred = (loaded_model.predict(X_test) > 0.5).astype(int)"
      ],
      "metadata": {
        "colab": {
          "base_uri": "https://localhost:8080/"
        },
        "id": "wWwnXUL6KJCO",
        "outputId": "8ec21e1b-0bd2-4b5e-b035-d81aa37046e0"
      },
      "execution_count": 15,
      "outputs": [
        {
          "output_type": "stream",
          "name": "stdout",
          "text": [
            "\u001b[1m10/10\u001b[0m \u001b[32m━━━━━━━━━━━━━━━━━━━━\u001b[0m\u001b[37m\u001b[0m \u001b[1m0s\u001b[0m 4ms/step \n"
          ]
        }
      ]
    },
    {
      "cell_type": "code",
      "source": [
        "# Confusion matrix\n",
        "cm = confusion_matrix(y_test, y_pred)\n",
        "sns.heatmap(cm, annot=True, fmt='d', cmap='Blues')\n",
        "plt.xlabel('Predicted')\n",
        "plt.ylabel('Actual')\n",
        "plt.title('Confusion Matrix')\n",
        "plt.show()"
      ],
      "metadata": {
        "colab": {
          "base_uri": "https://localhost:8080/",
          "height": 472
        },
        "id": "6R14k_5zKNCZ",
        "outputId": "2530ee37-3f82-4e18-87c2-52fde3c7f77c"
      },
      "execution_count": 16,
      "outputs": [
        {
          "output_type": "display_data",
          "data": {
            "text/plain": [
              "<Figure size 640x480 with 2 Axes>"
            ],
            "image/png": "[encoded data removed]"
          },
          "metadata": {}
        }
      ]
    },
    {
      "cell_type": "code",
      "source": [
        "# Classification report\n",
        "print(classification_report(y_test, y_pred))"
      ],
      "metadata": {
        "colab": {
          "base_uri": "https://localhost:8080/"
        },
        "id": "Zc4swHTPKURo",
        "outputId": "06d99e15-8827-4777-faa3-17f64ea23be6"
      },
      "execution_count": 17,
      "outputs": [
        {
          "output_type": "stream",
          "name": "stdout",
          "text": [
            "              precision    recall  f1-score   support\n",
            "\n",
            "           0       0.70      0.75      0.72       141\n",
            "           1       0.79      0.74      0.77       179\n",
            "\n",
            "    accuracy                           0.75       320\n",
            "   macro avg       0.74      0.75      0.75       320\n",
            "weighted avg       0.75      0.75      0.75       320\n",
            "\n"
          ]
        }
      ]
    }
  ]
}