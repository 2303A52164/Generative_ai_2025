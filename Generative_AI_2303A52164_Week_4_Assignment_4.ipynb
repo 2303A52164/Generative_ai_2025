{
  "nbformat": 4,
  "nbformat_minor": 0,
  "metadata": {
    "colab": {
      "provenance": [],
      "authorship_tag": "ABX9TyP4EdRczMhMO92hD7TB14TA",
      "include_colab_link": true
    },
    "kernelspec": {
      "name": "python3",
      "display_name": "Python 3"
    },
    "language_info": {
      "name": "python"
    }
  },
  "cells": [
    {
      "cell_type": "markdown",
      "metadata": {
        "id": "view-in-github",
        "colab_type": "text"
      },
      "source": [
        "<a href=\"https://colab.research.google.com/github/2303A52164/Generative_ai_2025/blob/main/Generative_AI_2303A52164_Week_4_Assignment_4.ipynb\" target=\"_parent\"><img src=\"https://colab.research.google.com/assets/colab-badge.svg\" alt=\"Open In Colab\"/></a>"
      ]
    },
    {
      "cell_type": "markdown",
      "source": [
        "# **1st Question:-**"
      ],
      "metadata": {
        "id": "72qZhG2bhhrW"
      }
    },
    {
      "cell_type": "code",
      "source": [
        "import numpy as np"
      ],
      "metadata": {
        "id": "SaKm7LqJegMs"
      },
      "execution_count": 14,
      "outputs": []
    },
    {
      "cell_type": "code",
      "source": [
        "def mean_squared_error(y_true, y_pred):\n",
        "    return np.mean((y_true - y_pred) ** 2)\n",
        "\n",
        "def train_ann(X_train, y_train, learning_rate=0.01, epochs=1000):\n",
        "    # Initialize weights and bias randomly\n",
        "    weights = np.random.rand(X_train.shape[1])\n",
        "    bias = np.random.rand()\n",
        "\n",
        "    for _ in range(epochs):\n",
        "        # Forward pass\n",
        "        y_pred = np.dot(X_train, weights) + bias\n",
        "\n",
        "        # Compute error\n",
        "        error = y_pred - y_train\n",
        "\n",
        "        # Compute gradients\n",
        "        dW = (2 / len(y_train)) * np.dot(X_train.T, error)\n",
        "        dB = (2 / len(y_train)) * np.sum(error)\n",
        "\n",
        "        # Update weights and bias\n",
        "        weights -= learning_rate * dW\n",
        "        bias -= learning_rate * dB\n",
        "\n",
        "    return weights, bias\n",
        "\n",
        "def predict(X, weights, bias):\n",
        "    return np.dot(X, weights) + bias\n"
      ],
      "metadata": {
        "id": "m74yHHDWenlE"
      },
      "execution_count": 15,
      "outputs": []
    },
    {
      "cell_type": "code",
      "source": [
        "# Training Data\n",
        "X_train = np.array([\n",
        "    [0.1, 0.2, 0.3],\n",
        "    [0.2, 0.3, 0.4],\n",
        "    [0.3, 0.4, 0.5],\n",
        "    [0.5, 0.6, 0.7],\n",
        "    [0.1, 0.3, 0.5],\n",
        "    [0.2, 0.4, 0.6],\n",
        "    [0.3, 0.5, 0.7],\n",
        "    [0.4, 0.6, 0.8],\n",
        "    [0.5, 0.7, 0.1]\n",
        "])\n",
        "y_train = np.array([0.14, 0.20, 0.26, 0.38, 0.22, 0.28, 0.34, 0.40, 0.22])\n",
        "\n",
        "# Train the model\n",
        "weights, bias = train_ann(X_train, y_train)\n"
      ],
      "metadata": {
        "id": "lCUG_41nerej"
      },
      "execution_count": 16,
      "outputs": []
    },
    {
      "cell_type": "code",
      "source": [
        "# Calculate MSE for training data\n",
        "y_train_pred = predict(X_train, weights, bias)\n",
        "train_mse = mean_squared_error(y_train, y_train_pred)\n",
        "print(f\"Training MSE: {train_mse:.4f}\")"
      ],
      "metadata": {
        "colab": {
          "base_uri": "https://localhost:8080/"
        },
        "id": "FgEU4yomevg0",
        "outputId": "b2ca673e-5f1b-44e1-c00a-8bcc82e28868"
      },
      "execution_count": 17,
      "outputs": [
        {
          "output_type": "stream",
          "name": "stdout",
          "text": [
            "Training MSE: 0.0007\n"
          ]
        }
      ]
    },
    {
      "cell_type": "code",
      "source": [
        "# Test Data\n",
        "X_test = np.array([[0.6, 0.7, 0.8], [0.7, 0.8, 0.9]])\n",
        "y_test = np.array([0.44, 0.50])\n",
        "\n",
        "y_test_pred = predict(X_test, weights, bias)\n",
        "test_mse = mean_squared_error(y_test, y_test_pred)\n",
        "print(f\"Testing MSE: {test_mse:.4f}\")"
      ],
      "metadata": {
        "colab": {
          "base_uri": "https://localhost:8080/"
        },
        "id": "IjyPoX_Pez86",
        "outputId": "25185143-7425-40cf-878c-129320f62f0c"
      },
      "execution_count": 18,
      "outputs": [
        {
          "output_type": "stream",
          "name": "stdout",
          "text": [
            "Testing MSE: 0.0001\n"
          ]
        }
      ]
    },
    {
      "cell_type": "code",
      "source": [
        "print(\"Enter x1, x2, x3 values separated by space: \")\n",
        "user_input = np.array([float(x) for x in input().split()]).reshape(1, -1)\n",
        "user_prediction = predict(user_input, weights, bias)\n",
        "print(f\"Predicted Output: {user_prediction[0]:.4f}\")"
      ],
      "metadata": {
        "colab": {
          "base_uri": "https://localhost:8080/"
        },
        "id": "QoqZn_Ame1mc",
        "outputId": "9a6e9a13-3a63-4616-e176-8f24065937ac"
      },
      "execution_count": 19,
      "outputs": [
        {
          "output_type": "stream",
          "name": "stdout",
          "text": [
            "Enter x1, x2, x3 values separated by space: \n",
            "0.3 0.4 0.5\n",
            "Predicted Output: 0.2567\n"
          ]
        }
      ]
    },
    {
      "cell_type": "markdown",
      "source": [
        "# **2nd Question:-**"
      ],
      "metadata": {
        "id": "BEEpgdrDhXgO"
      }
    },
    {
      "cell_type": "code",
      "source": [
        "import numpy as np"
      ],
      "metadata": {
        "id": "FJRMirwIhW__"
      },
      "execution_count": 25,
      "outputs": []
    },
    {
      "cell_type": "code",
      "source": [
        "def sigmoid(x):\n",
        "    return 1 / (1 + np.exp(-x))\n",
        "\n",
        "def sigmoid_derivative(x):\n",
        "    return x * (1 - x)"
      ],
      "metadata": {
        "id": "j0-7zMXNjOYx"
      },
      "execution_count": 26,
      "outputs": []
    },
    {
      "cell_type": "code",
      "source": [
        "X_train = np.array([\n",
        "    [0.1, 0.2, 0.3],\n",
        "    [0.2, 0.3, 0.4],\n",
        "    [0.3, 0.4, 0.5],\n",
        "    [0.5, 0.6, 0.7],\n",
        "    [0.1, 0.3, 0.5],\n",
        "    [0.2, 0.4, 0.6],\n",
        "    [0.3, 0.5, 0.7],\n",
        "    [0.4, 0.6, 0.8],\n",
        "    [0.5, 0.7, 0.1]\n",
        "])\n",
        "\n",
        "y_train = np.array([\n",
        "    [0.5349], [0.5498], [0.5646], [0.5939], [0.5548],\n",
        "    [0.5695], [0.5842], [0.5987], [0.5548]\n",
        "])\n"
      ],
      "metadata": {
        "id": "L0Qeu1-GjRCn"
      },
      "execution_count": 27,
      "outputs": []
    },
    {
      "cell_type": "code",
      "source": [
        "np.random.seed(42)\n",
        "weights = np.random.rand(3, 1)  # 3 inputs, 1 output\n",
        "bias = np.random.rand(1)"
      ],
      "metadata": {
        "id": "LPETv9K4jThk"
      },
      "execution_count": 28,
      "outputs": []
    },
    {
      "cell_type": "code",
      "source": [
        "learning_rate = 0.1\n",
        "epochs = 10000\n",
        "\n",
        "for epoch in range(epochs):\n",
        "    # Forward pass\n",
        "    z = np.dot(X_train, weights) + bias\n",
        "    output = sigmoid(z)\n",
        "\n",
        "    # Compute error\n",
        "    error = y_train - output\n",
        "\n",
        "    # Compute gradient\n",
        "    d_output = error * sigmoid_derivative(output)\n",
        "\n",
        "    # Update weights and bias\n",
        "    weights += learning_rate * np.dot(X_train.T, d_output)\n",
        "    bias += learning_rate * np.sum(d_output, axis=0)\n",
        "\n",
        "    # Print loss every 2000 epochs\n",
        "    if epoch % 2000 == 0:\n",
        "        loss = np.mean(error**2)\n",
        "        print(f\"Epoch {epoch}, Loss: {loss:.6f}\")\n"
      ],
      "metadata": {
        "colab": {
          "base_uri": "https://localhost:8080/"
        },
        "id": "7nsDL3gXjZfg",
        "outputId": "0f8dd8a5-49f0-43e7-d414-905e7a178d14"
      },
      "execution_count": 29,
      "outputs": [
        {
          "output_type": "stream",
          "name": "stdout",
          "text": [
            "Epoch 0, Loss: 0.061706\n",
            "Epoch 2000, Loss: 0.000003\n",
            "Epoch 4000, Loss: 0.000003\n",
            "Epoch 6000, Loss: 0.000002\n",
            "Epoch 8000, Loss: 0.000002\n"
          ]
        }
      ]
    },
    {
      "cell_type": "code",
      "source": [
        "X_test = np.array([\n",
        "    [0.6, 0.7, 0.8],\n",
        "    [0.7, 0.8, 0.9]\n",
        "])\n",
        "y_test = np.array([\n",
        "    [0.6083],\n",
        "    [0.6225]\n",
        "])\n",
        "\n",
        "# Prediction on test data\n",
        "z_test = np.dot(X_test, weights) + bias\n",
        "y_pred = sigmoid(z_test)\n",
        "\n",
        "# Calculate Mean Squared Error (MSE)\n",
        "mse = np.mean((y_test - y_pred) ** 2)\n",
        "print(f\"\\nTesting MSE: {mse:.6f}\")\n"
      ],
      "metadata": {
        "colab": {
          "base_uri": "https://localhost:8080/"
        },
        "id": "WaqNZ5Z6jblc",
        "outputId": "a0ed6a1d-24c6-4974-9dc0-46b649487813"
      },
      "execution_count": 30,
      "outputs": [
        {
          "output_type": "stream",
          "name": "stdout",
          "text": [
            "\n",
            "Testing MSE: 0.000004\n"
          ]
        }
      ]
    },
    {
      "cell_type": "code",
      "source": [
        "x1 = float(input(\"Enter x1: \"))\n",
        "x2 = float(input(\"Enter x2: \"))\n",
        "x3 = float(input(\"Enter x3: \"))\n",
        "\n",
        "user_input = np.array([[x1, x2, x3]])\n",
        "user_output = sigmoid(np.dot(user_input, weights) + bias)\n",
        "\n",
        "print(f\"\\nPredicted Output: {user_output[0,0]:.4f}\")"
      ],
      "metadata": {
        "colab": {
          "base_uri": "https://localhost:8080/"
        },
        "id": "PGkIV-lLnud4",
        "outputId": "05a5dca3-fe14-4862-f6c0-04db4924a4ed"
      },
      "execution_count": 33,
      "outputs": [
        {
          "output_type": "stream",
          "name": "stdout",
          "text": [
            "Enter x1: 0.4\n",
            "Enter x2: 0.5\n",
            "Enter x3: 0.6\n",
            "\n",
            "Predicted Output: 0.5778\n"
          ]
        }
      ]
    }
  ]
}