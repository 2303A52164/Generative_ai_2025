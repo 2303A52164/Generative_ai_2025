{
  "nbformat": 4,
  "nbformat_minor": 0,
  "metadata": {
    "colab": {
      "provenance": [],
      "authorship_tag": "ABX9TyPjjo/qOGbf/9lVDLhFiiKB",
      "include_colab_link": true
    },
    "kernelspec": {
      "name": "python3",
      "display_name": "Python 3"
    },
    "language_info": {
      "name": "python"
    }
  },
  "cells": [
    {
      "cell_type": "markdown",
      "metadata": {
        "id": "view-in-github",
        "colab_type": "text"
      },
      "source": [
        "<a href=\"https://colab.research.google.com/github/2303A52164/Generative_ai_2025/blob/main/Generative_AI_2303A52164_Week_5_Assignment_5_1.ipynb\" target=\"_parent\"><img src=\"https://colab.research.google.com/assets/colab-badge.svg\" alt=\"Open In Colab\"/></a>"
      ]
    },
    {
      "cell_type": "markdown",
      "source": [
        "# **1st Question:-**"
      ],
      "metadata": {
        "id": "0n2nyx8krzHz"
      }
    },
    {
      "cell_type": "code",
      "execution_count": 1,
      "metadata": {
        "id": "1ZnboaIooRLC"
      },
      "outputs": [],
      "source": [
        "import numpy as np"
      ]
    },
    {
      "cell_type": "code",
      "source": [
        "# Sigmoid Activation Function\n",
        "def sigmoid(x):\n",
        "    return 1 / (1 + np.exp(-x))\n",
        "\n",
        "# Derivative of Sigmoid Function\n",
        "def sigmoid_derivative(x):\n",
        "    return x * (1 - x)"
      ],
      "metadata": {
        "id": "C5s1rEPSq_wR"
      },
      "execution_count": 2,
      "outputs": []
    },
    {
      "cell_type": "code",
      "source": [
        "# Mean Squared Error Function\n",
        "def mse(y_true, y_pred):\n",
        "    return np.mean((y_true - y_pred) ** 2)"
      ],
      "metadata": {
        "id": "sbtFTewFrDe0"
      },
      "execution_count": 3,
      "outputs": []
    },
    {
      "cell_type": "code",
      "source": [
        "# Training Data\n",
        "X_train = np.array([[0.1, 0.2], [0.2, 0.3], [0.3, 0.4], [0.6, 0.7], [0.7, 0.8], [0.8, 0.9]])\n",
        "y_train = np.array([[0.3432], [0.3490], [0.3548], [0.3720], [0.3776], [0.3832]])\n",
        "\n",
        "# Test Data\n",
        "X_test = np.array([[0.4, 0.5], [0.5, 0.6]])\n",
        "y_test = np.array([[0.3606], [0.3663]])"
      ],
      "metadata": {
        "id": "tlAWxhBXrGFs"
      },
      "execution_count": 4,
      "outputs": []
    },
    {
      "cell_type": "code",
      "source": [
        "# Initialize Parameters\n",
        "input_neurons = 2\n",
        "hidden_neurons = 4\n",
        "output_neurons = 1\n",
        "learning_rate = 0.1\n",
        "epochs = 5000\n",
        "\n",
        "np.random.seed(42)\n",
        "weights_input_hidden = np.random.rand(input_neurons, hidden_neurons)\n",
        "weights_hidden_output = np.random.rand(hidden_neurons, output_neurons)\n",
        "bias_hidden = np.random.rand(1, hidden_neurons)\n",
        "bias_output = np.random.rand(1, output_neurons)\n"
      ],
      "metadata": {
        "id": "8pP0oDILrK-z"
      },
      "execution_count": 5,
      "outputs": []
    },
    {
      "cell_type": "code",
      "source": [
        "# Training Process\n",
        "for epoch in range(epochs):\n",
        "\n",
        "# Forward Propagation\n",
        "    hidden_layer_input = np.dot(X_train, weights_input_hidden) + bias_hidden\n",
        "    hidden_layer_output = sigmoid(hidden_layer_input)\n",
        "    output_layer_input = np.dot(hidden_layer_output, weights_hidden_output) + bias_output\n",
        "    output_layer_output = output_layer_input  # Linear activation\n",
        "\n",
        "# Compute Error\n",
        "    error = y_train - output_layer_output\n",
        "\n",
        "# Backpropagation\n",
        "    d_output = error\n",
        "    error_hidden_layer = d_output.dot(weights_hidden_output.T)\n",
        "    d_hidden_layer = error_hidden_layer * sigmoid_derivative(hidden_layer_output)\n",
        "\n",
        "# Update Weights and Biases\n",
        "    weights_hidden_output += hidden_layer_output.T.dot(d_output) * learning_rate\n",
        "    bias_output += np.sum(d_output, axis=0, keepdims=True) * learning_rate\n",
        "    weights_input_hidden += X_train.T.dot(d_hidden_layer) * learning_rate\n",
        "    bias_hidden += np.sum(d_hidden_layer, axis=0, keepdims=True) * learning_rate\n"
      ],
      "metadata": {
        "id": "n-qoY6sKrvx5"
      },
      "execution_count": 6,
      "outputs": []
    },
    {
      "cell_type": "code",
      "source": [
        "# Predictions and MSE Calculation\n",
        "hidden_test = sigmoid(np.dot(X_test, weights_input_hidden) + bias_hidden)\n",
        "y_pred_test = np.dot(hidden_test, weights_hidden_output) + bias_output\n",
        "\n",
        "mse_train = mse(y_train, output_layer_output)\n",
        "mse_test = mse(y_test, y_pred_test)\n",
        "\n",
        "print(\"Mean Squared Error on Training Data:\", mse_train)\n",
        "print(\"Mean Squared Error on Test Data:\", mse_test)\n"
      ],
      "metadata": {
        "colab": {
          "base_uri": "https://localhost:8080/"
        },
        "id": "fbq0syiOs7f6",
        "outputId": "84165dda-2a44-4d08-cec7-12718102b9a1"
      },
      "execution_count": 7,
      "outputs": [
        {
          "output_type": "stream",
          "name": "stdout",
          "text": [
            "Mean Squared Error on Training Data: 8.766387967344544e-08\n",
            "Mean Squared Error on Test Data: 2.1767034125588583e-07\n"
          ]
        }
      ]
    },
    {
      "cell_type": "code",
      "source": [
        "# User Input Prediction\n",
        "x1, x2 = map(float, input(\"Enter values for x1 and x2 (comma-separated): \").split(\",\"))\n",
        "user_input = np.array([[x1, x2]])\n",
        "hidden_user = sigmoid(np.dot(user_input, weights_input_hidden) + bias_hidden)\n",
        "prediction = np.dot(hidden_user, weights_hidden_output) + bias_output\n",
        "print(\"Predicted Output:\", prediction[0][0])"
      ],
      "metadata": {
        "colab": {
          "base_uri": "https://localhost:8080/"
        },
        "id": "Twl93EJetSA8",
        "outputId": "ba754f0d-b55b-4470-f8d5-917d3ae6b7c9"
      },
      "execution_count": 9,
      "outputs": [
        {
          "output_type": "stream",
          "name": "stdout",
          "text": [
            "Enter values for x1 and x2 (comma-separated): 0.4,0.5\n",
            "Predicted Output: 0.36104368051895636\n"
          ]
        }
      ]
    }
  ]
}